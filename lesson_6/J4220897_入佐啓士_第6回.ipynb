{
 "cells": [
  {
   "cell_type": "code",
   "execution_count": 4,
   "metadata": {},
   "outputs": [
    {
     "name": "stdout",
     "output_type": "stream",
     "text": [
      "h = 0.1　の場合、y = 2.136162537900001\n",
      "h = 0.01　の場合、y = 2.3435269340262255\n",
      "h = 0.001　の場合、y = 2.3654325517473422\n"
     ]
    }
   ],
   "source": [
    "# 課題1\n",
    "def f(x, y):\n",
    "    return x**2 - y\n",
    "\n",
    "def euler(f, x0, y0, h, num_step):\n",
    "    x_values = [x0]\n",
    "    y_values = [y0]\n",
    "    x = x0\n",
    "    y = y0\n",
    "    for _ in range(num_step):\n",
    "        y = y + h * f(x, y)\n",
    "        x += h\n",
    "        x_values.append(x)\n",
    "        y_values.append(y)\n",
    "    return x_values[num_step-1], y_values[num_step-1]\n",
    "\n",
    "\n",
    "x0 = 1\n",
    "y0 = 2\n",
    "h_list = [0.1, 0.01, 0.001]\n",
    "num_steps = [10, 100, 1000]\n",
    "\n",
    "for i in range(len(h_list)):\n",
    "    x_values_last, y_values_last = euler(f, x0, y0, h_list[i], num_steps[i])\n",
    "    print(f\"h = {h_list[i]}　の場合、y = {y_values_last}\")"
   ]
  },
  {
   "cell_type": "code",
   "execution_count": 5,
   "metadata": {},
   "outputs": [
    {
     "name": "stdout",
     "output_type": "stream",
     "text": [
      "h = 0.1　の場合、y = 2.2165712903594286\n",
      "h = 0.01　の場合、y = 2.3516766911845366\n",
      "h = 0.001　の場合、y = 2.3662485046135417\n"
     ]
    }
   ],
   "source": [
    "# 課題2\n",
    "def f(x, y):\n",
    "    return x**2 - y\n",
    "\n",
    "def runge(f, x0, y0, h, num_step):\n",
    "    x_values = [x0]\n",
    "    y_values = [y0]\n",
    "    x = x0\n",
    "    y = y0\n",
    "    for _ in range(num_step):\n",
    "        k1 = h * f(x, y)\n",
    "        k2 = h * f(x + h/2, y + k1/2)\n",
    "        k3 = h * f(x + h/2, y + k2/2)\n",
    "        k4 = h * f(x + h, y + k3)\n",
    "        y = y + (k1 + 2*k2 + 2*k3 + k4) / 6\n",
    "        x += h\n",
    "        x_values.append(x)\n",
    "        y_values.append(y)\n",
    "    return x_values[num_step-1], y_values[num_step-1]\n",
    "\n",
    "x0 = 1\n",
    "y0 = 2\n",
    "h_list = [0.1, 0.01, 0.001]\n",
    "num_steps = [10, 100, 1000]\n",
    "\n",
    "for i in range(len(h_list)):\n",
    "    x_values_last, y_values_last = runge(f, x0, y0, h_list[i], num_steps[i])\n",
    "    print(f\"h = {h_list[i]}　の場合、y = {y_values_last}\")"
   ]
  },
  {
   "cell_type": "code",
   "execution_count": 6,
   "metadata": {},
   "outputs": [
    {
     "name": "stdout",
     "output_type": "stream",
     "text": [
      "h = 0.1　の場合、y = 0.5510506078101883\n",
      "h = 0.01　の場合、y = 0.600888195431613\n",
      "h = 0.001　の場合、y = 0.6064698168518805\n"
     ]
    }
   ],
   "source": [
    "# 課題3\n",
    "import math\n",
    "\n",
    "def f(x, y):\n",
    "    return x**2 - 2 * y + math.sin(x)\n",
    "\n",
    "def runge(f, x0, y0, h, num_step):\n",
    "    x_values = [x0]\n",
    "    y_values = [y0]\n",
    "    x = x0\n",
    "    y = y0\n",
    "    for _ in range(num_step):\n",
    "        k1 = h * f(x, y)\n",
    "        k2 = h * f(x + h/2, y + k1/2)\n",
    "        k3 = h * f(x + h/2, y + k2/2)\n",
    "        k4 = h * f(x + h, y + k3)\n",
    "        y = y + (k1 + 2*k2 + 2*k3 + k4) / 6\n",
    "        x += h\n",
    "        x_values.append(x)\n",
    "        y_values.append(y)\n",
    "    return x_values[num_step-1], y_values[num_step-1]\n",
    "\n",
    "x0 = 0\n",
    "y0 = 1\n",
    "h_list = [0.1, 0.01, 0.001]\n",
    "num_steps = [10, 100, 1000]\n",
    "\n",
    "for i in range(len(h_list)):\n",
    "    x_values_last, y_values_last = runge(f, x0, y0, h_list[i], num_steps[i])\n",
    "    print(f\"h = {h_list[i]}　の場合、y = {y_values_last}\")"
   ]
  },
  {
   "cell_type": "code",
   "execution_count": 9,
   "metadata": {},
   "outputs": [
    {
     "name": "stdout",
     "output_type": "stream",
     "text": [
      "直線の傾き： -0.4045714285714286\n",
      "切片： 161.6952380952381\n"
     ]
    },
    {
     "data": {
      "image/png": "[encoded data removed]",
      "text/plain": [
       "<Figure size 640x480 with 1 Axes>"
      ]
     },
     "metadata": {},
     "output_type": "display_data"
    }
   ],
   "source": [
    "# 課題4\n",
    "import matplotlib.pyplot as plt\n",
    "\n",
    "x = [100, 150, 200, 250, 300, 350]\n",
    "y = [125, 95, 82, 63, 37, 22]\n",
    "\n",
    "n = len(x)\n",
    "sum_x = sum(x)\n",
    "sum_y = sum(y)\n",
    "sum_x_sq = sum(xi ** 2 for xi in x)\n",
    "sum_xy = sum(xi * yi for xi, yi in zip(x, y))\n",
    "\n",
    "a = (n*sum_xy - sum_x*sum_y) / (n*sum_x_sq - sum_x**2)\n",
    "b = (sum_y -a * sum_x) / n\n",
    "\n",
    "print(\"直線の傾き：\", a)\n",
    "print(\"切片：\", b)\n",
    "\n",
    "fit = [a*xi + b for xi in x]\n",
    "\n",
    "plt.scatter(x, y, label=\"data point\")\n",
    "plt.plot(x, fit, color=\"r\", label=\"fitted line\")\n",
    "plt.xlabel(\"商品価格(円）)\")\n",
    "plt.ylabel(\"販売個数（個）\")\n",
    "plt.legend()\n",
    "plt.show()\n"
   ]
  },
  {
   "cell_type": "code",
   "execution_count": 10,
   "metadata": {},
   "outputs": [
    {
     "name": "stdout",
     "output_type": "stream",
     "text": [
      "[[19, 22], [43, 50]]\n"
     ]
    }
   ],
   "source": [
    "# 課題5\n",
    "def matrix_mul(A, B):\n",
    "    rows_A = len(A)\n",
    "    cols_A = len(A[0])\n",
    "    cols_B = len(B[0])\n",
    "    \n",
    "    result = [[0 for _ in range(cols_B)] for _ in range(rows_A)]\n",
    "    \n",
    "    for i in range(rows_A):\n",
    "        for j in range(cols_B):\n",
    "            for k in range(cols_A):\n",
    "                result[i][j] += A[i][k] * B[k][j]\n",
    "    \n",
    "    return result\n",
    "\n",
    "A = [\n",
    "    [1, 2],\n",
    "    [3, 4]\n",
    "]\n",
    "\n",
    "B = [\n",
    "    [5, 6],\n",
    "    [7, 8]\n",
    "]\n",
    "\n",
    "result = matrix_mul(A, B)\n",
    "print(result)"
   ]
  },
  {
   "cell_type": "code",
   "execution_count": 11,
   "metadata": {},
   "outputs": [
    {
     "name": "stdout",
     "output_type": "stream",
     "text": [
      "Eigenvalues: (5.0, 2.0)\n"
     ]
    }
   ],
   "source": [
    "# 課題6\n",
    "\n",
    "def eigenvalues_2x2(A):\n",
    "    a = A[0][0]\n",
    "    b = A[0][1]\n",
    "    c = A[1][0]\n",
    "    d = A[1][1]\n",
    "    \n",
    "    trace = a + d\n",
    "    determinant = a * d - b * c\n",
    "    \n",
    "    discriminant = trace**2 - 4 * determinant\n",
    "    \n",
    "    if discriminant < 0:\n",
    "        raise ValueError(\"The matrix has complex eigenvalues.\")\n",
    "    \n",
    "    lambda1 = (trace + math.sqrt(discriminant)) / 2\n",
    "    lambda2 = (trace - math.sqrt(discriminant)) / 2\n",
    "    \n",
    "    return lambda1, lambda2\n",
    "\n",
    "A = [\n",
    "    [4, 2],\n",
    "    [1, 3]\n",
    "]\n",
    "\n",
    "try:\n",
    "    eigenvalues = eigenvalues_2x2(A)\n",
    "    print(\"Eigenvalues:\", eigenvalues)\n",
    "except ValueError as e:\n",
    "    print(e)"
   ]
  },
  {
   "cell_type": "code",
   "execution_count": 12,
   "metadata": {},
   "outputs": [
    {
     "name": "stdout",
     "output_type": "stream",
     "text": [
      "x1 = 0.6666666666666665\n",
      "x2 = 0.6666666666666667\n",
      "x3 = 1.3333333333333333\n"
     ]
    }
   ],
   "source": [
    "# 課題7\n",
    "def gaussian(A, b):\n",
    "    for i in range(3):\n",
    "        max_row = i\n",
    "        for k in range(i + 1, 3):\n",
    "            if abs(A[k][i]) > abs(A[max_row][i]):\n",
    "                max_row = k\n",
    "        A[i], A[max_row] = A[max_row], A[i]\n",
    "        b[i], b[max_row] = b[max_row], b[i]\n",
    "        \n",
    "        for k in range(i + 1, 3):\n",
    "            factor = A[k][i] / A[i][i]\n",
    "            for j in range(i, 3):\n",
    "                A[k][j] -= factor * A[i][j]\n",
    "            b[k] -= factor * b[i]\n",
    "    \n",
    "    x = [0, 0, 0]\n",
    "    for i in range(2, -1, -1):\n",
    "        x[i] = b[i] / A[i][i]\n",
    "        for k in range(i + 1, 3):\n",
    "            x[i] -= A[i][k] * x[k] / A[i][i]\n",
    "    return x\n",
    "\n",
    "A = [[2, 3, 5], [1, 4, 2], [3, 1, 4]]\n",
    "b = [10, 6, 8]\n",
    "\n",
    "x = gaussian(A, b)\n",
    "for i, xi in enumerate(x):\n",
    "    print(f\"x{i+1} = {xi}\")"
   ]
  },
  {
   "cell_type": "code",
   "execution_count": 13,
   "metadata": {},
   "outputs": [
    {
     "name": "stdout",
     "output_type": "stream",
     "text": [
      "x1 = 1.7425373134328361\n",
      "x2 = 1.33955223880597\n",
      "x3 = 1.2611940298507462\n",
      "x4 = 1.0708955223880596\n"
     ]
    }
   ],
   "source": [
    "# 課題8\n",
    "def gaussian(A, b):\n",
    "    n = len(A)\n",
    "    for i in range(n):\n",
    "        max_row = i\n",
    "        for k in range(i + 1, n):\n",
    "            if abs(A[k][i]) > abs(A[max_row][i]):\n",
    "                max_row = k\n",
    "        A[i], A[max_row] = A[max_row], A[i]\n",
    "        b[i], b[max_row] = b[max_row], b[i]\n",
    "        \n",
    "        for k in range(i + 1, n):\n",
    "            factor = A[k][i] / A[i][i]\n",
    "            for j in range(i, n):\n",
    "                A[k][j] -= factor * A[i][j]\n",
    "            b[k] -= factor * b[i]\n",
    "    \n",
    "    x = [0 for _ in range(n)]\n",
    "    for i in range(n - 1, -1, -1):\n",
    "        x[i] = b[i] / A[i][i]\n",
    "        for k in range(i + 1, n):\n",
    "            x[i] -= A[i][k] * x[k] / A[i][i]\n",
    "    return x\n",
    "\n",
    "A = [\n",
    "    [3, 2, -1, 5],\n",
    "    [2, -1, 3, 1],\n",
    "    [1, 3, 2, -4],\n",
    "    [4, 1, -2, 3]\n",
    "]\n",
    "b = [12, 7, 4, 9]\n",
    "\n",
    "x = gaussian(A, b)\n",
    "for i, xi in enumerate(x):\n",
    "    print(f\"x{i+1} = {xi}\")"
   ]
  }
 ],
 "metadata": {
  "kernelspec": {
   "display_name": "venv",
   "language": "python",
   "name": "python3"
  },
  "language_info": {
   "codemirror_mode": {
    "name": "ipython",
    "version": 3
   },
   "file_extension": ".py",
   "mimetype": "text/x-python",
   "name": "python",
   "nbconvert_exporter": "python",
   "pygments_lexer": "ipython3",
   "version": "3.11.7"
  }
 },
 "nbformat": 4,
 "nbformat_minor": 2
}
