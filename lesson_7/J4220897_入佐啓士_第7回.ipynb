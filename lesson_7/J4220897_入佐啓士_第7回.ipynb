{
 "cells": [
  {
   "cell_type": "code",
   "execution_count": null,
   "metadata": {},
   "outputs": [
    {
     "name": "stdout",
     "output_type": "stream",
     "text": [
      "3789 円\n",
      "最小硬貨枚数： 18枚\n",
      "500円：7枚\n",
      "100円：2枚\n",
      "50円：1枚\n",
      "10円：3枚\n",
      "5円：1枚\n",
      "1円：4枚\n",
      "\n",
      "4625 円\n",
      "最小硬貨枚数： 13枚\n",
      "500円：9枚\n",
      "100円：1枚\n",
      "50円：0枚\n",
      "10円：2枚\n",
      "5円：1枚\n",
      "1円：0枚\n",
      "\n",
      "5897 円\n",
      "最小硬貨枚数： 22枚\n",
      "500円：11枚\n",
      "100円：3枚\n",
      "50円：1枚\n",
      "10円：4枚\n",
      "5円：1枚\n",
      "1円：2枚\n",
      "\n"
     ]
    }
   ],
   "source": [
    "# 課題1\n",
    "\n",
    "def coin_change(amount):\n",
    "    coins = [500, 100, 50, 10, 5, 1]\n",
    "    min_coin_count = 0\n",
    "    used_coins = {}\n",
    "    \n",
    "    for coin in coins:\n",
    "        coin_count = amount // coin\n",
    "        used_coins[str(coin)] = coin_count\n",
    "        min_coin_count += coin_count\n",
    "        amount %= coin\n",
    "    \n",
    "    if amount == 0:\n",
    "        return min_coin_count, used_coins\n",
    "    else:\n",
    "        return False\n",
    "    \n",
    "total_amounts = [3789, 4625, 5897]\n",
    "\n",
    "for amount in total_amounts:\n",
    "    result = coin_change(amount)\n",
    "\n",
    "    print(amount, \"円\")\n",
    "    if result is False:\n",
    "        print(\"支払いができません\")\n",
    "    else:\n",
    "        print(f\"最小硬貨枚数： {result[0]}枚\")\n",
    "        for key, value in result[1].items():\n",
    "            print(f\"{key}円：{value}枚\")\n",
    "    print(\"\")"
   ]
  },
  {
   "cell_type": "code",
   "execution_count": 9,
   "metadata": {},
   "outputs": [
    {
     "name": "stdout",
     "output_type": "stream",
     "text": [
      "最大の価値： 155\n"
     ]
    }
   ],
   "source": [
    "# 課題2\n",
    "\n",
    "def knapsack(items, capacity):\n",
    "    items.sort(key=lambda x: x[1] / x[0], reverse=True)\n",
    "    total_value = 0\n",
    "    total_weight = 0\n",
    "    remaining_capacity = capacity\n",
    "    \n",
    "    for weight, value in items:\n",
    "        if weight <= remaining_capacity:\n",
    "            total_value += value\n",
    "            total_weight += weight\n",
    "            remaining_capacity -= weight\n",
    "            \n",
    "    return total_value, total_weight\n",
    "\n",
    "items = [(35, 90), (30, 85), (20, 60), (15, 50), (10, 45)]\n",
    "capacity = 60\n",
    "result_value, result_weight = knapsack(items, capacity)\n",
    "\n",
    "print(\"最大の価値：\", result_value)\n",
    "# 推測した正しい答えは190"
   ]
  },
  {
   "cell_type": "code",
   "execution_count": 10,
   "metadata": {},
   "outputs": [
    {
     "name": "stdout",
     "output_type": "stream",
     "text": [
      "最大の価値 190\n",
      "選択された荷物の番号 [5, 3, 2]\n",
      "重さの合計 60\n"
     ]
    }
   ],
   "source": [
    "# 課題3\n",
    "\n",
    "def knapsack(items, capacity):\n",
    "    n = len(items)\n",
    "    dp = [[0 for _ in range(capacity+1)] for _ in range(n+1)]\n",
    "\n",
    "    for i in range(n):\n",
    "        for w in range(capacity+1):\n",
    "            weight, value = items[i]\n",
    "            if weight <= w:\n",
    "                dp[i+1][w] = max(dp[i][w], dp[i][w-weight]+value)\n",
    "            else:\n",
    "                dp[i+1][w] = dp[i][w]\n",
    "    \n",
    "    selected_items = []\n",
    "    total_weight = 0\n",
    "    w = capacity\n",
    "    i = n\n",
    "    while i > 0 and w > 0:\n",
    "        if dp[i][w] != dp[i-1][w]:\n",
    "            selected_items.append(i)\n",
    "            total_weight += items[i-1][0]\n",
    "            w -= items[i-1][0]\n",
    "        i -= 1\n",
    "    \n",
    "    return dp[n][capacity], selected_items, total_weight\n",
    "\n",
    "items = [(35, 90), (30, 85), (20, 60), (15, 50), (10, 45)]\n",
    "capacity = 60\n",
    "max_value, selected_items, total_weight = knapsack(items, capacity)\n",
    "\n",
    "print(\"最大の価値\", max_value)\n",
    "print(\"選択された荷物の番号\", selected_items)\n",
    "print(\"重さの合計\", total_weight)\n"
   ]
  },
  {
   "cell_type": "code",
   "execution_count": 11,
   "metadata": {},
   "outputs": [
    {
     "name": "stdout",
     "output_type": "stream",
     "text": [
      "最長共通部分列の長さ： 4\n",
      "最長共通部分列 drly\n",
      "最長共通部分列の長さ： 12\n",
      "最長共通部分列 peniapeapple\n",
      "最長共通部分列の長さ： 24\n",
      "最長共通部分列 There is o to e a is t p\n",
      "最長共通部分列の長さ： 8\n",
      "最長共通部分列 CGTGTAGC\n"
     ]
    }
   ],
   "source": [
    "# 課題4\n",
    "\n",
    "def LCS(S, T):\n",
    "    m, n = len(S), len(T)\n",
    "    dp = [[0 for _ in range(n+1)] for _ in range(m+1)]\n",
    "\n",
    "    for i in range(m):\n",
    "        for j in range(n):\n",
    "            if S[i] == T[j]:\n",
    "                dp[i+1][j+1] = dp[i][j] + 1\n",
    "            else:\n",
    "                dp[i+1][j+1] = max(dp[i][j+1], dp[i+1][j])\n",
    "    \n",
    "    i, j = m, n\n",
    "    lcs_string = []\n",
    "    while i > 0 and j > 0:\n",
    "        if S[i-1] == T[j-1]:\n",
    "            lcs_string.append(S[i-1])\n",
    "            i -= 1\n",
    "            j -= 1\n",
    "        elif dp[i][j-1] > dp[i-1][j]:\n",
    "            j -= 1\n",
    "        else:\n",
    "            i -= 1\n",
    "    \n",
    "    return \"\". join(reversed(lcs_string))\n",
    "\n",
    "S = [\"dreamingly\", \"This is a pen. This is a pineapple\", \"There is more to life than increasing its speed\", \"ACGTGCTAGC\"]\n",
    "T = [\"wonderfully\", \"pen-pineapple-apple-pen\", \"There is no path to peace, peace is the path.\", \"CGTACGTAGC\"]\n",
    "\n",
    "for i in range(len(S)):\n",
    "    lcs_string = LCS(S[i], T[i])\n",
    "    print(\"最長共通部分列の長さ：\", len(lcs_string))\n",
    "    print(\"最長共通部分列\", lcs_string)"
   ]
  },
  {
   "cell_type": "code",
   "execution_count": 16,
   "metadata": {},
   "outputs": [
    {
     "name": "stdout",
     "output_type": "stream",
     "text": [
      "関数 f(x) の最小値を求める\n",
      "反復関数: 5\n",
      "最小値のx: -6.131694960586481e+16\n",
      "f(x)の最小値: 1.413585773712133e+67\n",
      "収束しませんでした。\n",
      "最小値のx: 6.4481\n",
      "f(x)の最小値: -793.8982\n",
      "収束しませんでした。\n",
      "最小値のx: 1.078\n",
      "f(x)の最小値: -39.3334\n",
      "\n",
      "関数 g(x) の最小値を求める\n",
      "反復関数: 12\n",
      "最小値のx: 192417575237.5485\n",
      "g(x)の最小値: 1.8882506861778165e+24\n",
      "反復関数: 7\n",
      "最小値のx: 4.9608\n",
      "g(x)の最小値: 3.9216\n",
      "収束しませんでした。\n",
      "最小値のx: 1.404\n",
      "g(x)の最小値: 649.108\n"
     ]
    }
   ],
   "source": [
    "# 課題5\n",
    "def gradient_descent(f, initial_x, learning_rate, max_iteration, epsilon):\n",
    "    x = initial_x\n",
    "    \n",
    "    for iteration in range(max_iteration):\n",
    "        gradient = (f(x + 1e-5) - f(x - 1e-5)) / (2 * 1e-5)\n",
    "        x = x -learning_rate * gradient\n",
    "        \n",
    "        if abs(gradient) < epsilon:\n",
    "            print(f\"反復関数: {iteration+1}\")\n",
    "            return x\n",
    "    print(\"収束しませんでした。\")\n",
    "    return x\n",
    "\n",
    "def f(x):\n",
    "    return x**4 - 4*(x**3) - 35*(x**2) + 5\n",
    "\n",
    "def g(x):\n",
    "    return (3-x)**2 + 50*(x-5)**2\n",
    "\n",
    "initial_x = 1\n",
    "learning_rates = [0.1, 0.01, 0.001]\n",
    "max_iterations = [100, 10, 1]\n",
    "epsilon = 1e-6\n",
    "\n",
    "print(\"関数 f(x) の最小値を求める\")\n",
    "for index, learning_rate in enumerate(learning_rates):\n",
    "    result = gradient_descent(f, initial_x, learning_rate, max_iterations[index], epsilon)\n",
    "    print(\"最小値のx:\", round(result, 4))\n",
    "    print(\"f(x)の最小値:\", round(f(result), 4))\n",
    "    \n",
    "print(\"\\n関数 g(x) の最小値を求める\")\n",
    "for index, learning_rate in enumerate(learning_rates):\n",
    "    result = gradient_descent(g, initial_x, learning_rate, max_iterations[index], epsilon)\n",
    "    print(\"最小値のx:\", round(result, 4))\n",
    "    print(\"g(x)の最小値:\", round(g(result), 4))"
   ]
  },
  {
   "cell_type": "code",
   "execution_count": 17,
   "metadata": {},
   "outputs": [
    {
     "name": "stdout",
     "output_type": "stream",
     "text": [
      "反復回数: 153\n",
      "最小値のx: -0.5149\n",
      "最小値のy: 2.1253\n",
      "f(x, y)の最小値: -0.2152\n"
     ]
    }
   ],
   "source": [
    "# 課題6\n",
    "import math\n",
    "\n",
    "def gradient_descent_2d(f, grad_f, initial_xy, learning_rate, max_iteration, epsilon):\n",
    "    x, y = initial_xy\n",
    "    \n",
    "    for iteration in range(max_iteration):\n",
    "        grad_x, grad_y = grad_f(x, y)\n",
    "        x = x - learning_rate * grad_x\n",
    "        y = y - learning_rate * grad_y\n",
    "        \n",
    "        if abs(grad_x) < epsilon and abs(grad_y) < epsilon:\n",
    "            print(f\"反復回数: {iteration+1}\")\n",
    "            return x, y\n",
    "    print(\"収束しませんでした。\")\n",
    "    return x, y\n",
    "\n",
    "def f(x, y):\n",
    "    return x**2 + y**2/5 + math.sin(2*x) + math.cos(y)\n",
    "\n",
    "def grad_f(x, y):\n",
    "    grad_x = 2*x + 2*math.cos(2*x)\n",
    "    grad_y = 2*y/5 - math.sin(y)\n",
    "    return grad_x, grad_y\n",
    "\n",
    "initial_xy = (1, 1)\n",
    "learning_rate = 0.1\n",
    "max_iteration = 1000\n",
    "epsilon = 1e-6\n",
    "\n",
    "result_x, result_y = gradient_descent_2d(f, grad_f, initial_xy, learning_rate, max_iteration, epsilon)\n",
    "print(\"最小値のx:\", round(result_x, 4))\n",
    "print(\"最小値のy:\", round(result_y, 4))\n",
    "print(\"f(x, y)の最小値:\", round(f(result_x, result_y), 4))"
   ]
  },
  {
   "cell_type": "code",
   "execution_count": null,
   "metadata": {},
   "outputs": [],
   "source": []
  }
 ],
 "metadata": {
  "kernelspec": {
   "display_name": "venv",
   "language": "python",
   "name": "python3"
  },
  "language_info": {
   "codemirror_mode": {
    "name": "ipython",
    "version": 3
   },
   "file_extension": ".py",
   "mimetype": "text/x-python",
   "name": "python",
   "nbconvert_exporter": "python",
   "pygments_lexer": "ipython3",
   "version": "3.11.7"
  }
 },
 "nbformat": 4,
 "nbformat_minor": 2
}
