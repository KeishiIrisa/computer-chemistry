{
 "cells": [
  {
   "cell_type": "code",
   "execution_count": 12,
   "metadata": {},
   "outputs": [
    {
     "name": "stdout",
     "output_type": "stream",
     "text": [
      "[72.0, 54.0, 24.0, 48.0, 36.0, 16.0]\n",
      "chi2値は 32.407407407407405\n",
      "p値は 4.933530471955204e-06\n",
      "有意水準5%で帰無仮説(一様分布に従う)を棄却:有意差がある\n"
     ]
    }
   ],
   "source": [
    "# 課題1\n",
    "import scipy as sp\n",
    "from scipy import stats\n",
    "\n",
    "significance = 0.05\n",
    "o = [90, 50, 10, 30, 40, 30]\n",
    "e = [(sum(o[:3])*sum(o[i::3])/sum(o)) if i <= 2 else (sum(o[3:])*sum(o[i::-3])/sum(o)) for i in range(len(o))]\n",
    "print(e)\n",
    "\n",
    "chi2, p = stats.chisquare(o, f_exp=e)\n",
    "print(f\"chi2値は {chi2}\")\n",
    "print(f\"p値は {p}\")\n",
    "\n",
    "if p < significance:\n",
    "    print(\"有意水準5%で帰無仮説(一様分布に従う)を棄却:有意差がある\")\n",
    "else:\n",
    "    print(\"有意水準5%で帰無仮説を採択:有意差がない\")\n"
   ]
  },
  {
   "cell_type": "code",
   "execution_count": 13,
   "metadata": {},
   "outputs": [
    {
     "name": "stdout",
     "output_type": "stream",
     "text": [
      "t値は 0.1245562896728593\n",
      "p値は 0.902279288045752\n",
      "有意水準5%で帰無仮説を採択:有意差がない\n"
     ]
    }
   ],
   "source": [
    "# 課題2\n",
    "import scipy as sp\n",
    "from scipy import stats\n",
    "\n",
    "significance = 0.05\n",
    "group_1 = [78, 85, 92, 74, 88, 90, 81, 79, 84, 87]\n",
    "group_2 = [80, 83, 89, 76, 91, 87, 82, 81, 78, 88]\n",
    "\n",
    "t, p = stats.ttest_ind(group_1, group_2, equal_var=False)\n",
    "print(f\"t値は {t}\")\n",
    "print(f\"p値は {p}\")\n",
    "\n",
    "if p < significance:\n",
    "    print(\"有意水準5%で帰無仮説(一様分布に従う)を棄却:有意差がある\")\n",
    "else:\n",
    "    print(\"有意水準5%で帰無仮説を採択:有意差がない\")\n",
    "    "
   ]
  },
  {
   "cell_type": "code",
   "execution_count": 14,
   "metadata": {},
   "outputs": [
    {
     "name": "stdout",
     "output_type": "stream",
     "text": [
      "t値は -43.81780460041329\n",
      "p値は 8.388926672109952e-12\n",
      "有意水準5%で帰無仮説(一様分布に従う)を棄却:有意差がある\n"
     ]
    }
   ],
   "source": [
    "# 課題3\n",
    "import scipy as sp\n",
    "from scipy import stats\n",
    "\n",
    "significance = 0.05\n",
    "japanese = [70, 72, 75, 68, 73, 71, 74, 69, 72, 70]\n",
    "math = [85, 88, 92, 84, 90, 87, 89, 85, 86, 88]\n",
    "\n",
    "t, p = stats.ttest_rel(japanese, math)\n",
    "print(f\"t値は {t}\")\n",
    "print(f\"p値は {p}\")\n",
    "\n",
    "if p < significance:\n",
    "    print(\"有意水準5%で帰無仮説(一様分布に従う)を棄却:有意差がある\")\n",
    "else:\n",
    "    print(\"有意水準5%で帰無仮説を採択:有意差がない\")\n",
    "    "
   ]
  },
  {
   "cell_type": "code",
   "execution_count": 15,
   "metadata": {},
   "outputs": [
    {
     "name": "stdout",
     "output_type": "stream",
     "text": [
      "f値は 175.9653739612189\n",
      "p値は 3.257263411108032e-16\n",
      "有意水準5%で帰無仮説(一様分布に従う)を棄却:有意差がある\n"
     ]
    }
   ],
   "source": [
    "# 課題4\n",
    "import scipy as sp\n",
    "from scipy import stats\n",
    "\n",
    "significance = 0.05\n",
    "group_1 = [78, 82, 85, 88, 84, 83, 86, 81, 87, 89]\n",
    "group_2 = [91, 94, 93, 92, 95, 90, 96, 94, 93, 92]\n",
    "group_3 = [65, 68, 70, 72, 67, 69, 71, 66, 73, 74]\n",
    "\n",
    "f, p = stats.f_oneway(group_1, group_2, group_3)\n",
    "print(f\"f値は {f}\")\n",
    "print(f\"p値は {p}\")\n",
    "\n",
    "if p < significance:\n",
    "    print(\"有意水準5%で帰無仮説(一様分布に従う)を棄却:有意差がある\")\n",
    "else:\n",
    "    print(\"有意水準5%で帰無仮説を採択:有意差がない\")\n"
   ]
  },
  {
   "cell_type": "code",
   "execution_count": 29,
   "metadata": {},
   "outputs": [
    {
     "ename": "NameError",
     "evalue": "cannot access free variable 'latex_to_png' where it is not associated with a value in enclosing scope",
     "output_type": "error",
     "traceback": [
      "\u001b[0;31m---------------------------------------------------------------------------\u001b[0m",
      "\u001b[0;31mRuntimeError\u001b[0m                              Traceback (most recent call last)",
      "File \u001b[0;32m~/Desktop/computer_chemistry/venv/lib/python3.11/site-packages/sympy/interactive/printing.py:178\u001b[0m, in \u001b[0;36m_init_ipython_printing.<locals>._print_latex_png\u001b[0;34m(o)\u001b[0m\n\u001b[1;32m    177\u001b[0m \u001b[38;5;28;01mtry\u001b[39;00m:\n\u001b[0;32m--> 178\u001b[0m     \u001b[38;5;28;01mreturn\u001b[39;00m \u001b[43m_preview_wrapper\u001b[49m\u001b[43m(\u001b[49m\u001b[43ms\u001b[49m\u001b[43m)\u001b[49m\n\u001b[1;32m    179\u001b[0m \u001b[38;5;28;01mexcept\u001b[39;00m \u001b[38;5;167;01mRuntimeError\u001b[39;00m \u001b[38;5;28;01mas\u001b[39;00m e:\n",
      "File \u001b[0;32m~/Desktop/computer_chemistry/venv/lib/python3.11/site-packages/sympy/interactive/printing.py:89\u001b[0m, in \u001b[0;36m_init_ipython_printing.<locals>._preview_wrapper\u001b[0;34m(o)\u001b[0m\n\u001b[1;32m     88\u001b[0m \u001b[38;5;28;01mtry\u001b[39;00m:\n\u001b[0;32m---> 89\u001b[0m     \u001b[43mpreview\u001b[49m\u001b[43m(\u001b[49m\u001b[43mo\u001b[49m\u001b[43m,\u001b[49m\u001b[43m \u001b[49m\u001b[43moutput\u001b[49m\u001b[38;5;241;43m=\u001b[39;49m\u001b[38;5;124;43m'\u001b[39;49m\u001b[38;5;124;43mpng\u001b[39;49m\u001b[38;5;124;43m'\u001b[39;49m\u001b[43m,\u001b[49m\u001b[43m \u001b[49m\u001b[43mviewer\u001b[49m\u001b[38;5;241;43m=\u001b[39;49m\u001b[38;5;124;43m'\u001b[39;49m\u001b[38;5;124;43mBytesIO\u001b[39;49m\u001b[38;5;124;43m'\u001b[39;49m\u001b[43m,\u001b[49m\u001b[43m \u001b[49m\u001b[43meuler\u001b[49m\u001b[38;5;241;43m=\u001b[39;49m\u001b[43meuler\u001b[49m\u001b[43m,\u001b[49m\n\u001b[1;32m     90\u001b[0m \u001b[43m            \u001b[49m\u001b[43moutputbuffer\u001b[49m\u001b[38;5;241;43m=\u001b[39;49m\u001b[43mexprbuffer\u001b[49m\u001b[43m,\u001b[49m\u001b[43m \u001b[49m\u001b[43mextra_preamble\u001b[49m\u001b[38;5;241;43m=\u001b[39;49m\u001b[43mextra_preamble\u001b[49m\u001b[43m,\u001b[49m\n\u001b[1;32m     91\u001b[0m \u001b[43m            \u001b[49m\u001b[43mdvioptions\u001b[49m\u001b[38;5;241;43m=\u001b[39;49m\u001b[43mdvioptions\u001b[49m\u001b[43m,\u001b[49m\u001b[43m \u001b[49m\u001b[43mfontsize\u001b[49m\u001b[38;5;241;43m=\u001b[39;49m\u001b[43mfontsize\u001b[49m\u001b[43m)\u001b[49m\n\u001b[1;32m     92\u001b[0m \u001b[38;5;28;01mexcept\u001b[39;00m \u001b[38;5;167;01mException\u001b[39;00m \u001b[38;5;28;01mas\u001b[39;00m e:\n\u001b[1;32m     93\u001b[0m     \u001b[38;5;66;03m# IPython swallows exceptions\u001b[39;00m\n",
      "File \u001b[0;32m~/Desktop/computer_chemistry/venv/lib/python3.11/site-packages/sympy/printing/preview.py:308\u001b[0m, in \u001b[0;36mpreview\u001b[0;34m(expr, output, viewer, euler, packages, filename, outputbuffer, preamble, dvioptions, outputTexFile, extra_preamble, fontsize, **latex_settings)\u001b[0m\n\u001b[1;32m    307\u001b[0m \u001b[38;5;28;01mif\u001b[39;00m \u001b[38;5;129;01mnot\u001b[39;00m shutil\u001b[38;5;241m.\u001b[39mwhich(\u001b[38;5;124m'\u001b[39m\u001b[38;5;124mlatex\u001b[39m\u001b[38;5;124m'\u001b[39m):\n\u001b[0;32m--> 308\u001b[0m     \u001b[38;5;28;01mraise\u001b[39;00m \u001b[38;5;167;01mRuntimeError\u001b[39;00m(\u001b[38;5;124m\"\u001b[39m\u001b[38;5;124mlatex program is not installed\u001b[39m\u001b[38;5;124m\"\u001b[39m)\n\u001b[1;32m    310\u001b[0m \u001b[38;5;28;01mtry\u001b[39;00m:\n",
      "\u001b[0;31mRuntimeError\u001b[0m: latex program is not installed",
      "\nDuring handling of the above exception, another exception occurred:\n",
      "\u001b[0;31mNameError\u001b[0m                                 Traceback (most recent call last)",
      "File \u001b[0;32m~/Desktop/computer_chemistry/venv/lib/python3.11/site-packages/IPython/core/formatters.py:347\u001b[0m, in \u001b[0;36m__call__\u001b[0;34m(self, obj)\u001b[0m\n",
      "File \u001b[0;32m~/Desktop/computer_chemistry/venv/lib/python3.11/site-packages/sympy/interactive/printing.py:184\u001b[0m, in \u001b[0;36m_init_ipython_printing.<locals>._print_latex_png\u001b[0;34m(o)\u001b[0m\n\u001b[1;32m    182\u001b[0m \u001b[38;5;28;01mif\u001b[39;00m latex_mode \u001b[38;5;241m!=\u001b[39m \u001b[38;5;124m'\u001b[39m\u001b[38;5;124minline\u001b[39m\u001b[38;5;124m'\u001b[39m:\n\u001b[1;32m    183\u001b[0m     s \u001b[38;5;241m=\u001b[39m latex(o, mode\u001b[38;5;241m=\u001b[39m\u001b[38;5;124m'\u001b[39m\u001b[38;5;124minline\u001b[39m\u001b[38;5;124m'\u001b[39m, \u001b[38;5;241m*\u001b[39m\u001b[38;5;241m*\u001b[39msettings)\n\u001b[0;32m--> 184\u001b[0m \u001b[38;5;28;01mreturn\u001b[39;00m \u001b[43m_matplotlib_wrapper\u001b[49m\u001b[43m(\u001b[49m\u001b[43ms\u001b[49m\u001b[43m)\u001b[49m\n",
      "File \u001b[0;32m~/Desktop/computer_chemistry/venv/lib/python3.11/site-packages/sympy/interactive/printing.py:118\u001b[0m, in \u001b[0;36m_init_ipython_printing.<locals>._matplotlib_wrapper\u001b[0;34m(o)\u001b[0m\n\u001b[1;32m    116\u001b[0m \u001b[38;5;28;01mtry\u001b[39;00m:\n\u001b[1;32m    117\u001b[0m     \u001b[38;5;28;01mtry\u001b[39;00m:\n\u001b[0;32m--> 118\u001b[0m         \u001b[38;5;28;01mreturn\u001b[39;00m \u001b[43mlatex_to_png\u001b[49m(o, color\u001b[38;5;241m=\u001b[39mforecolor, scale\u001b[38;5;241m=\u001b[39mscale)\n\u001b[1;32m    119\u001b[0m     \u001b[38;5;28;01mexcept\u001b[39;00m \u001b[38;5;167;01mTypeError\u001b[39;00m: \u001b[38;5;66;03m#  Old IPython version without color and scale\u001b[39;00m\n\u001b[1;32m    120\u001b[0m         \u001b[38;5;28;01mreturn\u001b[39;00m latex_to_png(o)\n",
      "\u001b[0;31mNameError\u001b[0m: cannot access free variable 'latex_to_png' where it is not associated with a value in enclosing scope"
     ]
    },
    {
     "data": {
      "text/latex": [
       "$\\displaystyle \\frac{d}{d x} \\sin{\\left(x \\right)} = \\cos{\\left(x \\right)}$"
      ],
      "text/plain": [
       "d                  \n",
       "──(sin(x)) = cos(x)\n",
       "dx                 "
      ]
     },
     "metadata": {},
     "output_type": "display_data"
    },
    {
     "ename": "NameError",
     "evalue": "cannot access free variable 'latex_to_png' where it is not associated with a value in enclosing scope",
     "output_type": "error",
     "traceback": [
      "\u001b[0;31m---------------------------------------------------------------------------\u001b[0m",
      "\u001b[0;31mRuntimeError\u001b[0m                              Traceback (most recent call last)",
      "File \u001b[0;32m~/Desktop/computer_chemistry/venv/lib/python3.11/site-packages/sympy/interactive/printing.py:178\u001b[0m, in \u001b[0;36m_init_ipython_printing.<locals>._print_latex_png\u001b[0;34m(o)\u001b[0m\n\u001b[1;32m    177\u001b[0m \u001b[38;5;28;01mtry\u001b[39;00m:\n\u001b[0;32m--> 178\u001b[0m     \u001b[38;5;28;01mreturn\u001b[39;00m \u001b[43m_preview_wrapper\u001b[49m\u001b[43m(\u001b[49m\u001b[43ms\u001b[49m\u001b[43m)\u001b[49m\n\u001b[1;32m    179\u001b[0m \u001b[38;5;28;01mexcept\u001b[39;00m \u001b[38;5;167;01mRuntimeError\u001b[39;00m \u001b[38;5;28;01mas\u001b[39;00m e:\n",
      "File \u001b[0;32m~/Desktop/computer_chemistry/venv/lib/python3.11/site-packages/sympy/interactive/printing.py:89\u001b[0m, in \u001b[0;36m_init_ipython_printing.<locals>._preview_wrapper\u001b[0;34m(o)\u001b[0m\n\u001b[1;32m     88\u001b[0m \u001b[38;5;28;01mtry\u001b[39;00m:\n\u001b[0;32m---> 89\u001b[0m     \u001b[43mpreview\u001b[49m\u001b[43m(\u001b[49m\u001b[43mo\u001b[49m\u001b[43m,\u001b[49m\u001b[43m \u001b[49m\u001b[43moutput\u001b[49m\u001b[38;5;241;43m=\u001b[39;49m\u001b[38;5;124;43m'\u001b[39;49m\u001b[38;5;124;43mpng\u001b[39;49m\u001b[38;5;124;43m'\u001b[39;49m\u001b[43m,\u001b[49m\u001b[43m \u001b[49m\u001b[43mviewer\u001b[49m\u001b[38;5;241;43m=\u001b[39;49m\u001b[38;5;124;43m'\u001b[39;49m\u001b[38;5;124;43mBytesIO\u001b[39;49m\u001b[38;5;124;43m'\u001b[39;49m\u001b[43m,\u001b[49m\u001b[43m \u001b[49m\u001b[43meuler\u001b[49m\u001b[38;5;241;43m=\u001b[39;49m\u001b[43meuler\u001b[49m\u001b[43m,\u001b[49m\n\u001b[1;32m     90\u001b[0m \u001b[43m            \u001b[49m\u001b[43moutputbuffer\u001b[49m\u001b[38;5;241;43m=\u001b[39;49m\u001b[43mexprbuffer\u001b[49m\u001b[43m,\u001b[49m\u001b[43m \u001b[49m\u001b[43mextra_preamble\u001b[49m\u001b[38;5;241;43m=\u001b[39;49m\u001b[43mextra_preamble\u001b[49m\u001b[43m,\u001b[49m\n\u001b[1;32m     91\u001b[0m \u001b[43m            \u001b[49m\u001b[43mdvioptions\u001b[49m\u001b[38;5;241;43m=\u001b[39;49m\u001b[43mdvioptions\u001b[49m\u001b[43m,\u001b[49m\u001b[43m \u001b[49m\u001b[43mfontsize\u001b[49m\u001b[38;5;241;43m=\u001b[39;49m\u001b[43mfontsize\u001b[49m\u001b[43m)\u001b[49m\n\u001b[1;32m     92\u001b[0m \u001b[38;5;28;01mexcept\u001b[39;00m \u001b[38;5;167;01mException\u001b[39;00m \u001b[38;5;28;01mas\u001b[39;00m e:\n\u001b[1;32m     93\u001b[0m     \u001b[38;5;66;03m# IPython swallows exceptions\u001b[39;00m\n",
      "File \u001b[0;32m~/Desktop/computer_chemistry/venv/lib/python3.11/site-packages/sympy/printing/preview.py:308\u001b[0m, in \u001b[0;36mpreview\u001b[0;34m(expr, output, viewer, euler, packages, filename, outputbuffer, preamble, dvioptions, outputTexFile, extra_preamble, fontsize, **latex_settings)\u001b[0m\n\u001b[1;32m    307\u001b[0m \u001b[38;5;28;01mif\u001b[39;00m \u001b[38;5;129;01mnot\u001b[39;00m shutil\u001b[38;5;241m.\u001b[39mwhich(\u001b[38;5;124m'\u001b[39m\u001b[38;5;124mlatex\u001b[39m\u001b[38;5;124m'\u001b[39m):\n\u001b[0;32m--> 308\u001b[0m     \u001b[38;5;28;01mraise\u001b[39;00m \u001b[38;5;167;01mRuntimeError\u001b[39;00m(\u001b[38;5;124m\"\u001b[39m\u001b[38;5;124mlatex program is not installed\u001b[39m\u001b[38;5;124m\"\u001b[39m)\n\u001b[1;32m    310\u001b[0m \u001b[38;5;28;01mtry\u001b[39;00m:\n",
      "\u001b[0;31mRuntimeError\u001b[0m: latex program is not installed",
      "\nDuring handling of the above exception, another exception occurred:\n",
      "\u001b[0;31mNameError\u001b[0m                                 Traceback (most recent call last)",
      "File \u001b[0;32m~/Desktop/computer_chemistry/venv/lib/python3.11/site-packages/IPython/core/formatters.py:347\u001b[0m, in \u001b[0;36m__call__\u001b[0;34m(self, obj)\u001b[0m\n",
      "File \u001b[0;32m~/Desktop/computer_chemistry/venv/lib/python3.11/site-packages/sympy/interactive/printing.py:184\u001b[0m, in \u001b[0;36m_init_ipython_printing.<locals>._print_latex_png\u001b[0;34m(o)\u001b[0m\n\u001b[1;32m    182\u001b[0m \u001b[38;5;28;01mif\u001b[39;00m latex_mode \u001b[38;5;241m!=\u001b[39m \u001b[38;5;124m'\u001b[39m\u001b[38;5;124minline\u001b[39m\u001b[38;5;124m'\u001b[39m:\n\u001b[1;32m    183\u001b[0m     s \u001b[38;5;241m=\u001b[39m latex(o, mode\u001b[38;5;241m=\u001b[39m\u001b[38;5;124m'\u001b[39m\u001b[38;5;124minline\u001b[39m\u001b[38;5;124m'\u001b[39m, \u001b[38;5;241m*\u001b[39m\u001b[38;5;241m*\u001b[39msettings)\n\u001b[0;32m--> 184\u001b[0m \u001b[38;5;28;01mreturn\u001b[39;00m \u001b[43m_matplotlib_wrapper\u001b[49m\u001b[43m(\u001b[49m\u001b[43ms\u001b[49m\u001b[43m)\u001b[49m\n",
      "File \u001b[0;32m~/Desktop/computer_chemistry/venv/lib/python3.11/site-packages/sympy/interactive/printing.py:118\u001b[0m, in \u001b[0;36m_init_ipython_printing.<locals>._matplotlib_wrapper\u001b[0;34m(o)\u001b[0m\n\u001b[1;32m    116\u001b[0m \u001b[38;5;28;01mtry\u001b[39;00m:\n\u001b[1;32m    117\u001b[0m     \u001b[38;5;28;01mtry\u001b[39;00m:\n\u001b[0;32m--> 118\u001b[0m         \u001b[38;5;28;01mreturn\u001b[39;00m \u001b[43mlatex_to_png\u001b[49m(o, color\u001b[38;5;241m=\u001b[39mforecolor, scale\u001b[38;5;241m=\u001b[39mscale)\n\u001b[1;32m    119\u001b[0m     \u001b[38;5;28;01mexcept\u001b[39;00m \u001b[38;5;167;01mTypeError\u001b[39;00m: \u001b[38;5;66;03m#  Old IPython version without color and scale\u001b[39;00m\n\u001b[1;32m    120\u001b[0m         \u001b[38;5;28;01mreturn\u001b[39;00m latex_to_png(o)\n",
      "\u001b[0;31mNameError\u001b[0m: cannot access free variable 'latex_to_png' where it is not associated with a value in enclosing scope"
     ]
    },
    {
     "data": {
      "text/latex": [
       "$\\displaystyle \\frac{d}{d x} e^{2 x} = 2 e^{2 x}$"
      ],
      "text/plain": [
       "d ⎛ 2⋅x⎞      2⋅x\n",
       "──⎝ℯ   ⎠ = 2⋅ℯ   \n",
       "dx               "
      ]
     },
     "metadata": {},
     "output_type": "display_data"
    },
    {
     "ename": "NameError",
     "evalue": "cannot access free variable 'latex_to_png' where it is not associated with a value in enclosing scope",
     "output_type": "error",
     "traceback": [
      "\u001b[0;31m---------------------------------------------------------------------------\u001b[0m",
      "\u001b[0;31mRuntimeError\u001b[0m                              Traceback (most recent call last)",
      "File \u001b[0;32m~/Desktop/computer_chemistry/venv/lib/python3.11/site-packages/sympy/interactive/printing.py:178\u001b[0m, in \u001b[0;36m_init_ipython_printing.<locals>._print_latex_png\u001b[0;34m(o)\u001b[0m\n\u001b[1;32m    177\u001b[0m \u001b[38;5;28;01mtry\u001b[39;00m:\n\u001b[0;32m--> 178\u001b[0m     \u001b[38;5;28;01mreturn\u001b[39;00m \u001b[43m_preview_wrapper\u001b[49m\u001b[43m(\u001b[49m\u001b[43ms\u001b[49m\u001b[43m)\u001b[49m\n\u001b[1;32m    179\u001b[0m \u001b[38;5;28;01mexcept\u001b[39;00m \u001b[38;5;167;01mRuntimeError\u001b[39;00m \u001b[38;5;28;01mas\u001b[39;00m e:\n",
      "File \u001b[0;32m~/Desktop/computer_chemistry/venv/lib/python3.11/site-packages/sympy/interactive/printing.py:89\u001b[0m, in \u001b[0;36m_init_ipython_printing.<locals>._preview_wrapper\u001b[0;34m(o)\u001b[0m\n\u001b[1;32m     88\u001b[0m \u001b[38;5;28;01mtry\u001b[39;00m:\n\u001b[0;32m---> 89\u001b[0m     \u001b[43mpreview\u001b[49m\u001b[43m(\u001b[49m\u001b[43mo\u001b[49m\u001b[43m,\u001b[49m\u001b[43m \u001b[49m\u001b[43moutput\u001b[49m\u001b[38;5;241;43m=\u001b[39;49m\u001b[38;5;124;43m'\u001b[39;49m\u001b[38;5;124;43mpng\u001b[39;49m\u001b[38;5;124;43m'\u001b[39;49m\u001b[43m,\u001b[49m\u001b[43m \u001b[49m\u001b[43mviewer\u001b[49m\u001b[38;5;241;43m=\u001b[39;49m\u001b[38;5;124;43m'\u001b[39;49m\u001b[38;5;124;43mBytesIO\u001b[39;49m\u001b[38;5;124;43m'\u001b[39;49m\u001b[43m,\u001b[49m\u001b[43m \u001b[49m\u001b[43meuler\u001b[49m\u001b[38;5;241;43m=\u001b[39;49m\u001b[43meuler\u001b[49m\u001b[43m,\u001b[49m\n\u001b[1;32m     90\u001b[0m \u001b[43m            \u001b[49m\u001b[43moutputbuffer\u001b[49m\u001b[38;5;241;43m=\u001b[39;49m\u001b[43mexprbuffer\u001b[49m\u001b[43m,\u001b[49m\u001b[43m \u001b[49m\u001b[43mextra_preamble\u001b[49m\u001b[38;5;241;43m=\u001b[39;49m\u001b[43mextra_preamble\u001b[49m\u001b[43m,\u001b[49m\n\u001b[1;32m     91\u001b[0m \u001b[43m            \u001b[49m\u001b[43mdvioptions\u001b[49m\u001b[38;5;241;43m=\u001b[39;49m\u001b[43mdvioptions\u001b[49m\u001b[43m,\u001b[49m\u001b[43m \u001b[49m\u001b[43mfontsize\u001b[49m\u001b[38;5;241;43m=\u001b[39;49m\u001b[43mfontsize\u001b[49m\u001b[43m)\u001b[49m\n\u001b[1;32m     92\u001b[0m \u001b[38;5;28;01mexcept\u001b[39;00m \u001b[38;5;167;01mException\u001b[39;00m \u001b[38;5;28;01mas\u001b[39;00m e:\n\u001b[1;32m     93\u001b[0m     \u001b[38;5;66;03m# IPython swallows exceptions\u001b[39;00m\n",
      "File \u001b[0;32m~/Desktop/computer_chemistry/venv/lib/python3.11/site-packages/sympy/printing/preview.py:308\u001b[0m, in \u001b[0;36mpreview\u001b[0;34m(expr, output, viewer, euler, packages, filename, outputbuffer, preamble, dvioptions, outputTexFile, extra_preamble, fontsize, **latex_settings)\u001b[0m\n\u001b[1;32m    307\u001b[0m \u001b[38;5;28;01mif\u001b[39;00m \u001b[38;5;129;01mnot\u001b[39;00m shutil\u001b[38;5;241m.\u001b[39mwhich(\u001b[38;5;124m'\u001b[39m\u001b[38;5;124mlatex\u001b[39m\u001b[38;5;124m'\u001b[39m):\n\u001b[0;32m--> 308\u001b[0m     \u001b[38;5;28;01mraise\u001b[39;00m \u001b[38;5;167;01mRuntimeError\u001b[39;00m(\u001b[38;5;124m\"\u001b[39m\u001b[38;5;124mlatex program is not installed\u001b[39m\u001b[38;5;124m\"\u001b[39m)\n\u001b[1;32m    310\u001b[0m \u001b[38;5;28;01mtry\u001b[39;00m:\n",
      "\u001b[0;31mRuntimeError\u001b[0m: latex program is not installed",
      "\nDuring handling of the above exception, another exception occurred:\n",
      "\u001b[0;31mNameError\u001b[0m                                 Traceback (most recent call last)",
      "File \u001b[0;32m~/Desktop/computer_chemistry/venv/lib/python3.11/site-packages/IPython/core/formatters.py:347\u001b[0m, in \u001b[0;36m__call__\u001b[0;34m(self, obj)\u001b[0m\n",
      "File \u001b[0;32m~/Desktop/computer_chemistry/venv/lib/python3.11/site-packages/sympy/interactive/printing.py:184\u001b[0m, in \u001b[0;36m_init_ipython_printing.<locals>._print_latex_png\u001b[0;34m(o)\u001b[0m\n\u001b[1;32m    182\u001b[0m \u001b[38;5;28;01mif\u001b[39;00m latex_mode \u001b[38;5;241m!=\u001b[39m \u001b[38;5;124m'\u001b[39m\u001b[38;5;124minline\u001b[39m\u001b[38;5;124m'\u001b[39m:\n\u001b[1;32m    183\u001b[0m     s \u001b[38;5;241m=\u001b[39m latex(o, mode\u001b[38;5;241m=\u001b[39m\u001b[38;5;124m'\u001b[39m\u001b[38;5;124minline\u001b[39m\u001b[38;5;124m'\u001b[39m, \u001b[38;5;241m*\u001b[39m\u001b[38;5;241m*\u001b[39msettings)\n\u001b[0;32m--> 184\u001b[0m \u001b[38;5;28;01mreturn\u001b[39;00m \u001b[43m_matplotlib_wrapper\u001b[49m\u001b[43m(\u001b[49m\u001b[43ms\u001b[49m\u001b[43m)\u001b[49m\n",
      "File \u001b[0;32m~/Desktop/computer_chemistry/venv/lib/python3.11/site-packages/sympy/interactive/printing.py:118\u001b[0m, in \u001b[0;36m_init_ipython_printing.<locals>._matplotlib_wrapper\u001b[0;34m(o)\u001b[0m\n\u001b[1;32m    116\u001b[0m \u001b[38;5;28;01mtry\u001b[39;00m:\n\u001b[1;32m    117\u001b[0m     \u001b[38;5;28;01mtry\u001b[39;00m:\n\u001b[0;32m--> 118\u001b[0m         \u001b[38;5;28;01mreturn\u001b[39;00m \u001b[43mlatex_to_png\u001b[49m(o, color\u001b[38;5;241m=\u001b[39mforecolor, scale\u001b[38;5;241m=\u001b[39mscale)\n\u001b[1;32m    119\u001b[0m     \u001b[38;5;28;01mexcept\u001b[39;00m \u001b[38;5;167;01mTypeError\u001b[39;00m: \u001b[38;5;66;03m#  Old IPython version without color and scale\u001b[39;00m\n\u001b[1;32m    120\u001b[0m         \u001b[38;5;28;01mreturn\u001b[39;00m latex_to_png(o)\n",
      "\u001b[0;31mNameError\u001b[0m: cannot access free variable 'latex_to_png' where it is not associated with a value in enclosing scope"
     ]
    },
    {
     "data": {
      "text/latex": [
       "$\\displaystyle \\frac{d}{d x} \\log{\\left(x \\right)} = \\frac{1}{x}$"
      ],
      "text/plain": [
       "d            1\n",
       "──(log(x)) = ─\n",
       "dx           x"
      ]
     },
     "metadata": {},
     "output_type": "display_data"
    },
    {
     "ename": "NameError",
     "evalue": "cannot access free variable 'latex_to_png' where it is not associated with a value in enclosing scope",
     "output_type": "error",
     "traceback": [
      "\u001b[0;31m---------------------------------------------------------------------------\u001b[0m",
      "\u001b[0;31mRuntimeError\u001b[0m                              Traceback (most recent call last)",
      "File \u001b[0;32m~/Desktop/computer_chemistry/venv/lib/python3.11/site-packages/sympy/interactive/printing.py:178\u001b[0m, in \u001b[0;36m_init_ipython_printing.<locals>._print_latex_png\u001b[0;34m(o)\u001b[0m\n\u001b[1;32m    177\u001b[0m \u001b[38;5;28;01mtry\u001b[39;00m:\n\u001b[0;32m--> 178\u001b[0m     \u001b[38;5;28;01mreturn\u001b[39;00m \u001b[43m_preview_wrapper\u001b[49m\u001b[43m(\u001b[49m\u001b[43ms\u001b[49m\u001b[43m)\u001b[49m\n\u001b[1;32m    179\u001b[0m \u001b[38;5;28;01mexcept\u001b[39;00m \u001b[38;5;167;01mRuntimeError\u001b[39;00m \u001b[38;5;28;01mas\u001b[39;00m e:\n",
      "File \u001b[0;32m~/Desktop/computer_chemistry/venv/lib/python3.11/site-packages/sympy/interactive/printing.py:89\u001b[0m, in \u001b[0;36m_init_ipython_printing.<locals>._preview_wrapper\u001b[0;34m(o)\u001b[0m\n\u001b[1;32m     88\u001b[0m \u001b[38;5;28;01mtry\u001b[39;00m:\n\u001b[0;32m---> 89\u001b[0m     \u001b[43mpreview\u001b[49m\u001b[43m(\u001b[49m\u001b[43mo\u001b[49m\u001b[43m,\u001b[49m\u001b[43m \u001b[49m\u001b[43moutput\u001b[49m\u001b[38;5;241;43m=\u001b[39;49m\u001b[38;5;124;43m'\u001b[39;49m\u001b[38;5;124;43mpng\u001b[39;49m\u001b[38;5;124;43m'\u001b[39;49m\u001b[43m,\u001b[49m\u001b[43m \u001b[49m\u001b[43mviewer\u001b[49m\u001b[38;5;241;43m=\u001b[39;49m\u001b[38;5;124;43m'\u001b[39;49m\u001b[38;5;124;43mBytesIO\u001b[39;49m\u001b[38;5;124;43m'\u001b[39;49m\u001b[43m,\u001b[49m\u001b[43m \u001b[49m\u001b[43meuler\u001b[49m\u001b[38;5;241;43m=\u001b[39;49m\u001b[43meuler\u001b[49m\u001b[43m,\u001b[49m\n\u001b[1;32m     90\u001b[0m \u001b[43m            \u001b[49m\u001b[43moutputbuffer\u001b[49m\u001b[38;5;241;43m=\u001b[39;49m\u001b[43mexprbuffer\u001b[49m\u001b[43m,\u001b[49m\u001b[43m \u001b[49m\u001b[43mextra_preamble\u001b[49m\u001b[38;5;241;43m=\u001b[39;49m\u001b[43mextra_preamble\u001b[49m\u001b[43m,\u001b[49m\n\u001b[1;32m     91\u001b[0m \u001b[43m            \u001b[49m\u001b[43mdvioptions\u001b[49m\u001b[38;5;241;43m=\u001b[39;49m\u001b[43mdvioptions\u001b[49m\u001b[43m,\u001b[49m\u001b[43m \u001b[49m\u001b[43mfontsize\u001b[49m\u001b[38;5;241;43m=\u001b[39;49m\u001b[43mfontsize\u001b[49m\u001b[43m)\u001b[49m\n\u001b[1;32m     92\u001b[0m \u001b[38;5;28;01mexcept\u001b[39;00m \u001b[38;5;167;01mException\u001b[39;00m \u001b[38;5;28;01mas\u001b[39;00m e:\n\u001b[1;32m     93\u001b[0m     \u001b[38;5;66;03m# IPython swallows exceptions\u001b[39;00m\n",
      "File \u001b[0;32m~/Desktop/computer_chemistry/venv/lib/python3.11/site-packages/sympy/printing/preview.py:308\u001b[0m, in \u001b[0;36mpreview\u001b[0;34m(expr, output, viewer, euler, packages, filename, outputbuffer, preamble, dvioptions, outputTexFile, extra_preamble, fontsize, **latex_settings)\u001b[0m\n\u001b[1;32m    307\u001b[0m \u001b[38;5;28;01mif\u001b[39;00m \u001b[38;5;129;01mnot\u001b[39;00m shutil\u001b[38;5;241m.\u001b[39mwhich(\u001b[38;5;124m'\u001b[39m\u001b[38;5;124mlatex\u001b[39m\u001b[38;5;124m'\u001b[39m):\n\u001b[0;32m--> 308\u001b[0m     \u001b[38;5;28;01mraise\u001b[39;00m \u001b[38;5;167;01mRuntimeError\u001b[39;00m(\u001b[38;5;124m\"\u001b[39m\u001b[38;5;124mlatex program is not installed\u001b[39m\u001b[38;5;124m\"\u001b[39m)\n\u001b[1;32m    310\u001b[0m \u001b[38;5;28;01mtry\u001b[39;00m:\n",
      "\u001b[0;31mRuntimeError\u001b[0m: latex program is not installed",
      "\nDuring handling of the above exception, another exception occurred:\n",
      "\u001b[0;31mNameError\u001b[0m                                 Traceback (most recent call last)",
      "File \u001b[0;32m~/Desktop/computer_chemistry/venv/lib/python3.11/site-packages/IPython/core/formatters.py:347\u001b[0m, in \u001b[0;36m__call__\u001b[0;34m(self, obj)\u001b[0m\n",
      "File \u001b[0;32m~/Desktop/computer_chemistry/venv/lib/python3.11/site-packages/sympy/interactive/printing.py:184\u001b[0m, in \u001b[0;36m_init_ipython_printing.<locals>._print_latex_png\u001b[0;34m(o)\u001b[0m\n\u001b[1;32m    182\u001b[0m \u001b[38;5;28;01mif\u001b[39;00m latex_mode \u001b[38;5;241m!=\u001b[39m \u001b[38;5;124m'\u001b[39m\u001b[38;5;124minline\u001b[39m\u001b[38;5;124m'\u001b[39m:\n\u001b[1;32m    183\u001b[0m     s \u001b[38;5;241m=\u001b[39m latex(o, mode\u001b[38;5;241m=\u001b[39m\u001b[38;5;124m'\u001b[39m\u001b[38;5;124minline\u001b[39m\u001b[38;5;124m'\u001b[39m, \u001b[38;5;241m*\u001b[39m\u001b[38;5;241m*\u001b[39msettings)\n\u001b[0;32m--> 184\u001b[0m \u001b[38;5;28;01mreturn\u001b[39;00m \u001b[43m_matplotlib_wrapper\u001b[49m\u001b[43m(\u001b[49m\u001b[43ms\u001b[49m\u001b[43m)\u001b[49m\n",
      "File \u001b[0;32m~/Desktop/computer_chemistry/venv/lib/python3.11/site-packages/sympy/interactive/printing.py:118\u001b[0m, in \u001b[0;36m_init_ipython_printing.<locals>._matplotlib_wrapper\u001b[0;34m(o)\u001b[0m\n\u001b[1;32m    116\u001b[0m \u001b[38;5;28;01mtry\u001b[39;00m:\n\u001b[1;32m    117\u001b[0m     \u001b[38;5;28;01mtry\u001b[39;00m:\n\u001b[0;32m--> 118\u001b[0m         \u001b[38;5;28;01mreturn\u001b[39;00m \u001b[43mlatex_to_png\u001b[49m(o, color\u001b[38;5;241m=\u001b[39mforecolor, scale\u001b[38;5;241m=\u001b[39mscale)\n\u001b[1;32m    119\u001b[0m     \u001b[38;5;28;01mexcept\u001b[39;00m \u001b[38;5;167;01mTypeError\u001b[39;00m: \u001b[38;5;66;03m#  Old IPython version without color and scale\u001b[39;00m\n\u001b[1;32m    120\u001b[0m         \u001b[38;5;28;01mreturn\u001b[39;00m latex_to_png(o)\n",
      "\u001b[0;31mNameError\u001b[0m: cannot access free variable 'latex_to_png' where it is not associated with a value in enclosing scope"
     ]
    },
    {
     "data": {
      "text/latex": [
       "$\\displaystyle \\frac{\\partial}{\\partial x} \\left(x^{3} + 2 x^{2} y + y^{3}\\right) = 3 x^{2} + 4 x y$"
      ],
      "text/plain": [
       "∂ ⎛ 3      2      3⎞      2        \n",
       "──⎝x  + 2⋅x ⋅y + y ⎠ = 3⋅x  + 4⋅x⋅y\n",
       "∂x                                 "
      ]
     },
     "metadata": {},
     "output_type": "display_data"
    },
    {
     "ename": "NameError",
     "evalue": "cannot access free variable 'latex_to_png' where it is not associated with a value in enclosing scope",
     "output_type": "error",
     "traceback": [
      "\u001b[0;31m---------------------------------------------------------------------------\u001b[0m",
      "\u001b[0;31mRuntimeError\u001b[0m                              Traceback (most recent call last)",
      "File \u001b[0;32m~/Desktop/computer_chemistry/venv/lib/python3.11/site-packages/sympy/interactive/printing.py:178\u001b[0m, in \u001b[0;36m_init_ipython_printing.<locals>._print_latex_png\u001b[0;34m(o)\u001b[0m\n\u001b[1;32m    177\u001b[0m \u001b[38;5;28;01mtry\u001b[39;00m:\n\u001b[0;32m--> 178\u001b[0m     \u001b[38;5;28;01mreturn\u001b[39;00m \u001b[43m_preview_wrapper\u001b[49m\u001b[43m(\u001b[49m\u001b[43ms\u001b[49m\u001b[43m)\u001b[49m\n\u001b[1;32m    179\u001b[0m \u001b[38;5;28;01mexcept\u001b[39;00m \u001b[38;5;167;01mRuntimeError\u001b[39;00m \u001b[38;5;28;01mas\u001b[39;00m e:\n",
      "File \u001b[0;32m~/Desktop/computer_chemistry/venv/lib/python3.11/site-packages/sympy/interactive/printing.py:89\u001b[0m, in \u001b[0;36m_init_ipython_printing.<locals>._preview_wrapper\u001b[0;34m(o)\u001b[0m\n\u001b[1;32m     88\u001b[0m \u001b[38;5;28;01mtry\u001b[39;00m:\n\u001b[0;32m---> 89\u001b[0m     \u001b[43mpreview\u001b[49m\u001b[43m(\u001b[49m\u001b[43mo\u001b[49m\u001b[43m,\u001b[49m\u001b[43m \u001b[49m\u001b[43moutput\u001b[49m\u001b[38;5;241;43m=\u001b[39;49m\u001b[38;5;124;43m'\u001b[39;49m\u001b[38;5;124;43mpng\u001b[39;49m\u001b[38;5;124;43m'\u001b[39;49m\u001b[43m,\u001b[49m\u001b[43m \u001b[49m\u001b[43mviewer\u001b[49m\u001b[38;5;241;43m=\u001b[39;49m\u001b[38;5;124;43m'\u001b[39;49m\u001b[38;5;124;43mBytesIO\u001b[39;49m\u001b[38;5;124;43m'\u001b[39;49m\u001b[43m,\u001b[49m\u001b[43m \u001b[49m\u001b[43meuler\u001b[49m\u001b[38;5;241;43m=\u001b[39;49m\u001b[43meuler\u001b[49m\u001b[43m,\u001b[49m\n\u001b[1;32m     90\u001b[0m \u001b[43m            \u001b[49m\u001b[43moutputbuffer\u001b[49m\u001b[38;5;241;43m=\u001b[39;49m\u001b[43mexprbuffer\u001b[49m\u001b[43m,\u001b[49m\u001b[43m \u001b[49m\u001b[43mextra_preamble\u001b[49m\u001b[38;5;241;43m=\u001b[39;49m\u001b[43mextra_preamble\u001b[49m\u001b[43m,\u001b[49m\n\u001b[1;32m     91\u001b[0m \u001b[43m            \u001b[49m\u001b[43mdvioptions\u001b[49m\u001b[38;5;241;43m=\u001b[39;49m\u001b[43mdvioptions\u001b[49m\u001b[43m,\u001b[49m\u001b[43m \u001b[49m\u001b[43mfontsize\u001b[49m\u001b[38;5;241;43m=\u001b[39;49m\u001b[43mfontsize\u001b[49m\u001b[43m)\u001b[49m\n\u001b[1;32m     92\u001b[0m \u001b[38;5;28;01mexcept\u001b[39;00m \u001b[38;5;167;01mException\u001b[39;00m \u001b[38;5;28;01mas\u001b[39;00m e:\n\u001b[1;32m     93\u001b[0m     \u001b[38;5;66;03m# IPython swallows exceptions\u001b[39;00m\n",
      "File \u001b[0;32m~/Desktop/computer_chemistry/venv/lib/python3.11/site-packages/sympy/printing/preview.py:308\u001b[0m, in \u001b[0;36mpreview\u001b[0;34m(expr, output, viewer, euler, packages, filename, outputbuffer, preamble, dvioptions, outputTexFile, extra_preamble, fontsize, **latex_settings)\u001b[0m\n\u001b[1;32m    307\u001b[0m \u001b[38;5;28;01mif\u001b[39;00m \u001b[38;5;129;01mnot\u001b[39;00m shutil\u001b[38;5;241m.\u001b[39mwhich(\u001b[38;5;124m'\u001b[39m\u001b[38;5;124mlatex\u001b[39m\u001b[38;5;124m'\u001b[39m):\n\u001b[0;32m--> 308\u001b[0m     \u001b[38;5;28;01mraise\u001b[39;00m \u001b[38;5;167;01mRuntimeError\u001b[39;00m(\u001b[38;5;124m\"\u001b[39m\u001b[38;5;124mlatex program is not installed\u001b[39m\u001b[38;5;124m\"\u001b[39m)\n\u001b[1;32m    310\u001b[0m \u001b[38;5;28;01mtry\u001b[39;00m:\n",
      "\u001b[0;31mRuntimeError\u001b[0m: latex program is not installed",
      "\nDuring handling of the above exception, another exception occurred:\n",
      "\u001b[0;31mNameError\u001b[0m                                 Traceback (most recent call last)",
      "File \u001b[0;32m~/Desktop/computer_chemistry/venv/lib/python3.11/site-packages/IPython/core/formatters.py:347\u001b[0m, in \u001b[0;36m__call__\u001b[0;34m(self, obj)\u001b[0m\n",
      "File \u001b[0;32m~/Desktop/computer_chemistry/venv/lib/python3.11/site-packages/sympy/interactive/printing.py:184\u001b[0m, in \u001b[0;36m_init_ipython_printing.<locals>._print_latex_png\u001b[0;34m(o)\u001b[0m\n\u001b[1;32m    182\u001b[0m \u001b[38;5;28;01mif\u001b[39;00m latex_mode \u001b[38;5;241m!=\u001b[39m \u001b[38;5;124m'\u001b[39m\u001b[38;5;124minline\u001b[39m\u001b[38;5;124m'\u001b[39m:\n\u001b[1;32m    183\u001b[0m     s \u001b[38;5;241m=\u001b[39m latex(o, mode\u001b[38;5;241m=\u001b[39m\u001b[38;5;124m'\u001b[39m\u001b[38;5;124minline\u001b[39m\u001b[38;5;124m'\u001b[39m, \u001b[38;5;241m*\u001b[39m\u001b[38;5;241m*\u001b[39msettings)\n\u001b[0;32m--> 184\u001b[0m \u001b[38;5;28;01mreturn\u001b[39;00m \u001b[43m_matplotlib_wrapper\u001b[49m\u001b[43m(\u001b[49m\u001b[43ms\u001b[49m\u001b[43m)\u001b[49m\n",
      "File \u001b[0;32m~/Desktop/computer_chemistry/venv/lib/python3.11/site-packages/sympy/interactive/printing.py:118\u001b[0m, in \u001b[0;36m_init_ipython_printing.<locals>._matplotlib_wrapper\u001b[0;34m(o)\u001b[0m\n\u001b[1;32m    116\u001b[0m \u001b[38;5;28;01mtry\u001b[39;00m:\n\u001b[1;32m    117\u001b[0m     \u001b[38;5;28;01mtry\u001b[39;00m:\n\u001b[0;32m--> 118\u001b[0m         \u001b[38;5;28;01mreturn\u001b[39;00m \u001b[43mlatex_to_png\u001b[49m(o, color\u001b[38;5;241m=\u001b[39mforecolor, scale\u001b[38;5;241m=\u001b[39mscale)\n\u001b[1;32m    119\u001b[0m     \u001b[38;5;28;01mexcept\u001b[39;00m \u001b[38;5;167;01mTypeError\u001b[39;00m: \u001b[38;5;66;03m#  Old IPython version without color and scale\u001b[39;00m\n\u001b[1;32m    120\u001b[0m         \u001b[38;5;28;01mreturn\u001b[39;00m latex_to_png(o)\n",
      "\u001b[0;31mNameError\u001b[0m: cannot access free variable 'latex_to_png' where it is not associated with a value in enclosing scope"
     ]
    },
    {
     "data": {
      "text/latex": [
       "$\\displaystyle \\frac{\\partial}{\\partial y} x^{2} \\log{\\left(y \\right)} = \\frac{x^{2}}{y}$"
      ],
      "text/plain": [
       "                 2\n",
       "∂ ⎛ 2       ⎞   x \n",
       "──⎝x ⋅log(y)⎠ = ──\n",
       "∂y              y "
      ]
     },
     "metadata": {},
     "output_type": "display_data"
    }
   ],
   "source": [
    "# 課題5\n",
    "import sympy as sym\n",
    "from sympy.plotting import plot\n",
    "sym.init_printing(use_unicode=True)\n",
    "\n",
    "x = sym.Symbol(\"x\")\n",
    "y = sym.Symbol(\"y\")\n",
    "expr1 = sym.sin(x)\n",
    "expr2 = sym.exp(2*x)\n",
    "expr3 = sym.log(x)\n",
    "expr4 = x**3 + 2*(x**2)*y + y**3\n",
    "expr5 = (x**2)*sym.log(y)\n",
    "\n",
    "exprs = [(expr1, x), (expr2, x), (expr3, x), (expr4, x), (expr5, y)]\n",
    "\n",
    "for expr, var in exprs:\n",
    "    eq = sym.Eq(sym.Derivative(expr, var), sym.diff(expr, var))\n",
    "    display(eq)"
   ]
  },
  {
   "cell_type": "code",
   "execution_count": 35,
   "metadata": {},
   "outputs": [
    {
     "ename": "NameError",
     "evalue": "cannot access free variable 'latex_to_png' where it is not associated with a value in enclosing scope",
     "output_type": "error",
     "traceback": [
      "\u001b[0;31m---------------------------------------------------------------------------\u001b[0m",
      "\u001b[0;31mRuntimeError\u001b[0m                              Traceback (most recent call last)",
      "File \u001b[0;32m~/Desktop/computer_chemistry/venv/lib/python3.11/site-packages/sympy/interactive/printing.py:178\u001b[0m, in \u001b[0;36m_init_ipython_printing.<locals>._print_latex_png\u001b[0;34m(o)\u001b[0m\n\u001b[1;32m    177\u001b[0m \u001b[38;5;28;01mtry\u001b[39;00m:\n\u001b[0;32m--> 178\u001b[0m     \u001b[38;5;28;01mreturn\u001b[39;00m \u001b[43m_preview_wrapper\u001b[49m\u001b[43m(\u001b[49m\u001b[43ms\u001b[49m\u001b[43m)\u001b[49m\n\u001b[1;32m    179\u001b[0m \u001b[38;5;28;01mexcept\u001b[39;00m \u001b[38;5;167;01mRuntimeError\u001b[39;00m \u001b[38;5;28;01mas\u001b[39;00m e:\n",
      "File \u001b[0;32m~/Desktop/computer_chemistry/venv/lib/python3.11/site-packages/sympy/interactive/printing.py:89\u001b[0m, in \u001b[0;36m_init_ipython_printing.<locals>._preview_wrapper\u001b[0;34m(o)\u001b[0m\n\u001b[1;32m     88\u001b[0m \u001b[38;5;28;01mtry\u001b[39;00m:\n\u001b[0;32m---> 89\u001b[0m     \u001b[43mpreview\u001b[49m\u001b[43m(\u001b[49m\u001b[43mo\u001b[49m\u001b[43m,\u001b[49m\u001b[43m \u001b[49m\u001b[43moutput\u001b[49m\u001b[38;5;241;43m=\u001b[39;49m\u001b[38;5;124;43m'\u001b[39;49m\u001b[38;5;124;43mpng\u001b[39;49m\u001b[38;5;124;43m'\u001b[39;49m\u001b[43m,\u001b[49m\u001b[43m \u001b[49m\u001b[43mviewer\u001b[49m\u001b[38;5;241;43m=\u001b[39;49m\u001b[38;5;124;43m'\u001b[39;49m\u001b[38;5;124;43mBytesIO\u001b[39;49m\u001b[38;5;124;43m'\u001b[39;49m\u001b[43m,\u001b[49m\u001b[43m \u001b[49m\u001b[43meuler\u001b[49m\u001b[38;5;241;43m=\u001b[39;49m\u001b[43meuler\u001b[49m\u001b[43m,\u001b[49m\n\u001b[1;32m     90\u001b[0m \u001b[43m            \u001b[49m\u001b[43moutputbuffer\u001b[49m\u001b[38;5;241;43m=\u001b[39;49m\u001b[43mexprbuffer\u001b[49m\u001b[43m,\u001b[49m\u001b[43m \u001b[49m\u001b[43mextra_preamble\u001b[49m\u001b[38;5;241;43m=\u001b[39;49m\u001b[43mextra_preamble\u001b[49m\u001b[43m,\u001b[49m\n\u001b[1;32m     91\u001b[0m \u001b[43m            \u001b[49m\u001b[43mdvioptions\u001b[49m\u001b[38;5;241;43m=\u001b[39;49m\u001b[43mdvioptions\u001b[49m\u001b[43m,\u001b[49m\u001b[43m \u001b[49m\u001b[43mfontsize\u001b[49m\u001b[38;5;241;43m=\u001b[39;49m\u001b[43mfontsize\u001b[49m\u001b[43m)\u001b[49m\n\u001b[1;32m     92\u001b[0m \u001b[38;5;28;01mexcept\u001b[39;00m \u001b[38;5;167;01mException\u001b[39;00m \u001b[38;5;28;01mas\u001b[39;00m e:\n\u001b[1;32m     93\u001b[0m     \u001b[38;5;66;03m# IPython swallows exceptions\u001b[39;00m\n",
      "File \u001b[0;32m~/Desktop/computer_chemistry/venv/lib/python3.11/site-packages/sympy/printing/preview.py:308\u001b[0m, in \u001b[0;36mpreview\u001b[0;34m(expr, output, viewer, euler, packages, filename, outputbuffer, preamble, dvioptions, outputTexFile, extra_preamble, fontsize, **latex_settings)\u001b[0m\n\u001b[1;32m    307\u001b[0m \u001b[38;5;28;01mif\u001b[39;00m \u001b[38;5;129;01mnot\u001b[39;00m shutil\u001b[38;5;241m.\u001b[39mwhich(\u001b[38;5;124m'\u001b[39m\u001b[38;5;124mlatex\u001b[39m\u001b[38;5;124m'\u001b[39m):\n\u001b[0;32m--> 308\u001b[0m     \u001b[38;5;28;01mraise\u001b[39;00m \u001b[38;5;167;01mRuntimeError\u001b[39;00m(\u001b[38;5;124m\"\u001b[39m\u001b[38;5;124mlatex program is not installed\u001b[39m\u001b[38;5;124m\"\u001b[39m)\n\u001b[1;32m    310\u001b[0m \u001b[38;5;28;01mtry\u001b[39;00m:\n",
      "\u001b[0;31mRuntimeError\u001b[0m: latex program is not installed",
      "\nDuring handling of the above exception, another exception occurred:\n",
      "\u001b[0;31mNameError\u001b[0m                                 Traceback (most recent call last)",
      "File \u001b[0;32m~/Desktop/computer_chemistry/venv/lib/python3.11/site-packages/IPython/core/formatters.py:347\u001b[0m, in \u001b[0;36m__call__\u001b[0;34m(self, obj)\u001b[0m\n",
      "File \u001b[0;32m~/Desktop/computer_chemistry/venv/lib/python3.11/site-packages/sympy/interactive/printing.py:184\u001b[0m, in \u001b[0;36m_init_ipython_printing.<locals>._print_latex_png\u001b[0;34m(o)\u001b[0m\n\u001b[1;32m    182\u001b[0m \u001b[38;5;28;01mif\u001b[39;00m latex_mode \u001b[38;5;241m!=\u001b[39m \u001b[38;5;124m'\u001b[39m\u001b[38;5;124minline\u001b[39m\u001b[38;5;124m'\u001b[39m:\n\u001b[1;32m    183\u001b[0m     s \u001b[38;5;241m=\u001b[39m latex(o, mode\u001b[38;5;241m=\u001b[39m\u001b[38;5;124m'\u001b[39m\u001b[38;5;124minline\u001b[39m\u001b[38;5;124m'\u001b[39m, \u001b[38;5;241m*\u001b[39m\u001b[38;5;241m*\u001b[39msettings)\n\u001b[0;32m--> 184\u001b[0m \u001b[38;5;28;01mreturn\u001b[39;00m \u001b[43m_matplotlib_wrapper\u001b[49m\u001b[43m(\u001b[49m\u001b[43ms\u001b[49m\u001b[43m)\u001b[49m\n",
      "File \u001b[0;32m~/Desktop/computer_chemistry/venv/lib/python3.11/site-packages/sympy/interactive/printing.py:118\u001b[0m, in \u001b[0;36m_init_ipython_printing.<locals>._matplotlib_wrapper\u001b[0;34m(o)\u001b[0m\n\u001b[1;32m    116\u001b[0m \u001b[38;5;28;01mtry\u001b[39;00m:\n\u001b[1;32m    117\u001b[0m     \u001b[38;5;28;01mtry\u001b[39;00m:\n\u001b[0;32m--> 118\u001b[0m         \u001b[38;5;28;01mreturn\u001b[39;00m \u001b[43mlatex_to_png\u001b[49m(o, color\u001b[38;5;241m=\u001b[39mforecolor, scale\u001b[38;5;241m=\u001b[39mscale)\n\u001b[1;32m    119\u001b[0m     \u001b[38;5;28;01mexcept\u001b[39;00m \u001b[38;5;167;01mTypeError\u001b[39;00m: \u001b[38;5;66;03m#  Old IPython version without color and scale\u001b[39;00m\n\u001b[1;32m    120\u001b[0m         \u001b[38;5;28;01mreturn\u001b[39;00m latex_to_png(o)\n",
      "\u001b[0;31mNameError\u001b[0m: cannot access free variable 'latex_to_png' where it is not associated with a value in enclosing scope"
     ]
    },
    {
     "data": {
      "text/latex": [
       "$\\displaystyle f{\\left(x \\right)} = \\left(C_{1} \\sin{\\left(2 x \\right)} + C_{2} \\cos{\\left(2 x \\right)}\\right) e^{x}$"
      ],
      "text/plain": [
       "                                    x\n",
       "f(x) = (C₁⋅sin(2⋅x) + C₂⋅cos(2⋅x))⋅ℯ "
      ]
     },
     "metadata": {},
     "output_type": "display_data"
    },
    {
     "ename": "NameError",
     "evalue": "cannot access free variable 'latex_to_png' where it is not associated with a value in enclosing scope",
     "output_type": "error",
     "traceback": [
      "\u001b[0;31m---------------------------------------------------------------------------\u001b[0m",
      "\u001b[0;31mRuntimeError\u001b[0m                              Traceback (most recent call last)",
      "File \u001b[0;32m~/Desktop/computer_chemistry/venv/lib/python3.11/site-packages/sympy/interactive/printing.py:178\u001b[0m, in \u001b[0;36m_init_ipython_printing.<locals>._print_latex_png\u001b[0;34m(o)\u001b[0m\n\u001b[1;32m    177\u001b[0m \u001b[38;5;28;01mtry\u001b[39;00m:\n\u001b[0;32m--> 178\u001b[0m     \u001b[38;5;28;01mreturn\u001b[39;00m \u001b[43m_preview_wrapper\u001b[49m\u001b[43m(\u001b[49m\u001b[43ms\u001b[49m\u001b[43m)\u001b[49m\n\u001b[1;32m    179\u001b[0m \u001b[38;5;28;01mexcept\u001b[39;00m \u001b[38;5;167;01mRuntimeError\u001b[39;00m \u001b[38;5;28;01mas\u001b[39;00m e:\n",
      "File \u001b[0;32m~/Desktop/computer_chemistry/venv/lib/python3.11/site-packages/sympy/interactive/printing.py:89\u001b[0m, in \u001b[0;36m_init_ipython_printing.<locals>._preview_wrapper\u001b[0;34m(o)\u001b[0m\n\u001b[1;32m     88\u001b[0m \u001b[38;5;28;01mtry\u001b[39;00m:\n\u001b[0;32m---> 89\u001b[0m     \u001b[43mpreview\u001b[49m\u001b[43m(\u001b[49m\u001b[43mo\u001b[49m\u001b[43m,\u001b[49m\u001b[43m \u001b[49m\u001b[43moutput\u001b[49m\u001b[38;5;241;43m=\u001b[39;49m\u001b[38;5;124;43m'\u001b[39;49m\u001b[38;5;124;43mpng\u001b[39;49m\u001b[38;5;124;43m'\u001b[39;49m\u001b[43m,\u001b[49m\u001b[43m \u001b[49m\u001b[43mviewer\u001b[49m\u001b[38;5;241;43m=\u001b[39;49m\u001b[38;5;124;43m'\u001b[39;49m\u001b[38;5;124;43mBytesIO\u001b[39;49m\u001b[38;5;124;43m'\u001b[39;49m\u001b[43m,\u001b[49m\u001b[43m \u001b[49m\u001b[43meuler\u001b[49m\u001b[38;5;241;43m=\u001b[39;49m\u001b[43meuler\u001b[49m\u001b[43m,\u001b[49m\n\u001b[1;32m     90\u001b[0m \u001b[43m            \u001b[49m\u001b[43moutputbuffer\u001b[49m\u001b[38;5;241;43m=\u001b[39;49m\u001b[43mexprbuffer\u001b[49m\u001b[43m,\u001b[49m\u001b[43m \u001b[49m\u001b[43mextra_preamble\u001b[49m\u001b[38;5;241;43m=\u001b[39;49m\u001b[43mextra_preamble\u001b[49m\u001b[43m,\u001b[49m\n\u001b[1;32m     91\u001b[0m \u001b[43m            \u001b[49m\u001b[43mdvioptions\u001b[49m\u001b[38;5;241;43m=\u001b[39;49m\u001b[43mdvioptions\u001b[49m\u001b[43m,\u001b[49m\u001b[43m \u001b[49m\u001b[43mfontsize\u001b[49m\u001b[38;5;241;43m=\u001b[39;49m\u001b[43mfontsize\u001b[49m\u001b[43m)\u001b[49m\n\u001b[1;32m     92\u001b[0m \u001b[38;5;28;01mexcept\u001b[39;00m \u001b[38;5;167;01mException\u001b[39;00m \u001b[38;5;28;01mas\u001b[39;00m e:\n\u001b[1;32m     93\u001b[0m     \u001b[38;5;66;03m# IPython swallows exceptions\u001b[39;00m\n",
      "File \u001b[0;32m~/Desktop/computer_chemistry/venv/lib/python3.11/site-packages/sympy/printing/preview.py:308\u001b[0m, in \u001b[0;36mpreview\u001b[0;34m(expr, output, viewer, euler, packages, filename, outputbuffer, preamble, dvioptions, outputTexFile, extra_preamble, fontsize, **latex_settings)\u001b[0m\n\u001b[1;32m    307\u001b[0m \u001b[38;5;28;01mif\u001b[39;00m \u001b[38;5;129;01mnot\u001b[39;00m shutil\u001b[38;5;241m.\u001b[39mwhich(\u001b[38;5;124m'\u001b[39m\u001b[38;5;124mlatex\u001b[39m\u001b[38;5;124m'\u001b[39m):\n\u001b[0;32m--> 308\u001b[0m     \u001b[38;5;28;01mraise\u001b[39;00m \u001b[38;5;167;01mRuntimeError\u001b[39;00m(\u001b[38;5;124m\"\u001b[39m\u001b[38;5;124mlatex program is not installed\u001b[39m\u001b[38;5;124m\"\u001b[39m)\n\u001b[1;32m    310\u001b[0m \u001b[38;5;28;01mtry\u001b[39;00m:\n",
      "\u001b[0;31mRuntimeError\u001b[0m: latex program is not installed",
      "\nDuring handling of the above exception, another exception occurred:\n",
      "\u001b[0;31mNameError\u001b[0m                                 Traceback (most recent call last)",
      "File \u001b[0;32m~/Desktop/computer_chemistry/venv/lib/python3.11/site-packages/IPython/core/formatters.py:347\u001b[0m, in \u001b[0;36m__call__\u001b[0;34m(self, obj)\u001b[0m\n",
      "File \u001b[0;32m~/Desktop/computer_chemistry/venv/lib/python3.11/site-packages/sympy/interactive/printing.py:184\u001b[0m, in \u001b[0;36m_init_ipython_printing.<locals>._print_latex_png\u001b[0;34m(o)\u001b[0m\n\u001b[1;32m    182\u001b[0m \u001b[38;5;28;01mif\u001b[39;00m latex_mode \u001b[38;5;241m!=\u001b[39m \u001b[38;5;124m'\u001b[39m\u001b[38;5;124minline\u001b[39m\u001b[38;5;124m'\u001b[39m:\n\u001b[1;32m    183\u001b[0m     s \u001b[38;5;241m=\u001b[39m latex(o, mode\u001b[38;5;241m=\u001b[39m\u001b[38;5;124m'\u001b[39m\u001b[38;5;124minline\u001b[39m\u001b[38;5;124m'\u001b[39m, \u001b[38;5;241m*\u001b[39m\u001b[38;5;241m*\u001b[39msettings)\n\u001b[0;32m--> 184\u001b[0m \u001b[38;5;28;01mreturn\u001b[39;00m \u001b[43m_matplotlib_wrapper\u001b[49m\u001b[43m(\u001b[49m\u001b[43ms\u001b[49m\u001b[43m)\u001b[49m\n",
      "File \u001b[0;32m~/Desktop/computer_chemistry/venv/lib/python3.11/site-packages/sympy/interactive/printing.py:118\u001b[0m, in \u001b[0;36m_init_ipython_printing.<locals>._matplotlib_wrapper\u001b[0;34m(o)\u001b[0m\n\u001b[1;32m    116\u001b[0m \u001b[38;5;28;01mtry\u001b[39;00m:\n\u001b[1;32m    117\u001b[0m     \u001b[38;5;28;01mtry\u001b[39;00m:\n\u001b[0;32m--> 118\u001b[0m         \u001b[38;5;28;01mreturn\u001b[39;00m \u001b[43mlatex_to_png\u001b[49m(o, color\u001b[38;5;241m=\u001b[39mforecolor, scale\u001b[38;5;241m=\u001b[39mscale)\n\u001b[1;32m    119\u001b[0m     \u001b[38;5;28;01mexcept\u001b[39;00m \u001b[38;5;167;01mTypeError\u001b[39;00m: \u001b[38;5;66;03m#  Old IPython version without color and scale\u001b[39;00m\n\u001b[1;32m    120\u001b[0m         \u001b[38;5;28;01mreturn\u001b[39;00m latex_to_png(o)\n",
      "\u001b[0;31mNameError\u001b[0m: cannot access free variable 'latex_to_png' where it is not associated with a value in enclosing scope"
     ]
    },
    {
     "data": {
      "text/latex": [
       "$\\displaystyle f{\\left(x \\right)} = \\frac{e^{x} \\sin{\\left(2 x \\right)}}{2}$"
      ],
      "text/plain": [
       "        x         \n",
       "       ℯ ⋅sin(2⋅x)\n",
       "f(x) = ───────────\n",
       "            2     "
      ]
     },
     "metadata": {},
     "output_type": "display_data"
    },
    {
     "ename": "NameError",
     "evalue": "cannot access free variable 'latex_to_png' where it is not associated with a value in enclosing scope",
     "output_type": "error",
     "traceback": [
      "\u001b[0;31m---------------------------------------------------------------------------\u001b[0m",
      "\u001b[0;31mRuntimeError\u001b[0m                              Traceback (most recent call last)",
      "File \u001b[0;32m~/Desktop/computer_chemistry/venv/lib/python3.11/site-packages/sympy/interactive/printing.py:178\u001b[0m, in \u001b[0;36m_init_ipython_printing.<locals>._print_latex_png\u001b[0;34m(o)\u001b[0m\n\u001b[1;32m    177\u001b[0m \u001b[38;5;28;01mtry\u001b[39;00m:\n\u001b[0;32m--> 178\u001b[0m     \u001b[38;5;28;01mreturn\u001b[39;00m \u001b[43m_preview_wrapper\u001b[49m\u001b[43m(\u001b[49m\u001b[43ms\u001b[49m\u001b[43m)\u001b[49m\n\u001b[1;32m    179\u001b[0m \u001b[38;5;28;01mexcept\u001b[39;00m \u001b[38;5;167;01mRuntimeError\u001b[39;00m \u001b[38;5;28;01mas\u001b[39;00m e:\n",
      "File \u001b[0;32m~/Desktop/computer_chemistry/venv/lib/python3.11/site-packages/sympy/interactive/printing.py:89\u001b[0m, in \u001b[0;36m_init_ipython_printing.<locals>._preview_wrapper\u001b[0;34m(o)\u001b[0m\n\u001b[1;32m     88\u001b[0m \u001b[38;5;28;01mtry\u001b[39;00m:\n\u001b[0;32m---> 89\u001b[0m     \u001b[43mpreview\u001b[49m\u001b[43m(\u001b[49m\u001b[43mo\u001b[49m\u001b[43m,\u001b[49m\u001b[43m \u001b[49m\u001b[43moutput\u001b[49m\u001b[38;5;241;43m=\u001b[39;49m\u001b[38;5;124;43m'\u001b[39;49m\u001b[38;5;124;43mpng\u001b[39;49m\u001b[38;5;124;43m'\u001b[39;49m\u001b[43m,\u001b[49m\u001b[43m \u001b[49m\u001b[43mviewer\u001b[49m\u001b[38;5;241;43m=\u001b[39;49m\u001b[38;5;124;43m'\u001b[39;49m\u001b[38;5;124;43mBytesIO\u001b[39;49m\u001b[38;5;124;43m'\u001b[39;49m\u001b[43m,\u001b[49m\u001b[43m \u001b[49m\u001b[43meuler\u001b[49m\u001b[38;5;241;43m=\u001b[39;49m\u001b[43meuler\u001b[49m\u001b[43m,\u001b[49m\n\u001b[1;32m     90\u001b[0m \u001b[43m            \u001b[49m\u001b[43moutputbuffer\u001b[49m\u001b[38;5;241;43m=\u001b[39;49m\u001b[43mexprbuffer\u001b[49m\u001b[43m,\u001b[49m\u001b[43m \u001b[49m\u001b[43mextra_preamble\u001b[49m\u001b[38;5;241;43m=\u001b[39;49m\u001b[43mextra_preamble\u001b[49m\u001b[43m,\u001b[49m\n\u001b[1;32m     91\u001b[0m \u001b[43m            \u001b[49m\u001b[43mdvioptions\u001b[49m\u001b[38;5;241;43m=\u001b[39;49m\u001b[43mdvioptions\u001b[49m\u001b[43m,\u001b[49m\u001b[43m \u001b[49m\u001b[43mfontsize\u001b[49m\u001b[38;5;241;43m=\u001b[39;49m\u001b[43mfontsize\u001b[49m\u001b[43m)\u001b[49m\n\u001b[1;32m     92\u001b[0m \u001b[38;5;28;01mexcept\u001b[39;00m \u001b[38;5;167;01mException\u001b[39;00m \u001b[38;5;28;01mas\u001b[39;00m e:\n\u001b[1;32m     93\u001b[0m     \u001b[38;5;66;03m# IPython swallows exceptions\u001b[39;00m\n",
      "File \u001b[0;32m~/Desktop/computer_chemistry/venv/lib/python3.11/site-packages/sympy/printing/preview.py:308\u001b[0m, in \u001b[0;36mpreview\u001b[0;34m(expr, output, viewer, euler, packages, filename, outputbuffer, preamble, dvioptions, outputTexFile, extra_preamble, fontsize, **latex_settings)\u001b[0m\n\u001b[1;32m    307\u001b[0m \u001b[38;5;28;01mif\u001b[39;00m \u001b[38;5;129;01mnot\u001b[39;00m shutil\u001b[38;5;241m.\u001b[39mwhich(\u001b[38;5;124m'\u001b[39m\u001b[38;5;124mlatex\u001b[39m\u001b[38;5;124m'\u001b[39m):\n\u001b[0;32m--> 308\u001b[0m     \u001b[38;5;28;01mraise\u001b[39;00m \u001b[38;5;167;01mRuntimeError\u001b[39;00m(\u001b[38;5;124m\"\u001b[39m\u001b[38;5;124mlatex program is not installed\u001b[39m\u001b[38;5;124m\"\u001b[39m)\n\u001b[1;32m    310\u001b[0m \u001b[38;5;28;01mtry\u001b[39;00m:\n",
      "\u001b[0;31mRuntimeError\u001b[0m: latex program is not installed",
      "\nDuring handling of the above exception, another exception occurred:\n",
      "\u001b[0;31mNameError\u001b[0m                                 Traceback (most recent call last)",
      "File \u001b[0;32m~/Desktop/computer_chemistry/venv/lib/python3.11/site-packages/IPython/core/formatters.py:347\u001b[0m, in \u001b[0;36m__call__\u001b[0;34m(self, obj)\u001b[0m\n",
      "File \u001b[0;32m~/Desktop/computer_chemistry/venv/lib/python3.11/site-packages/sympy/interactive/printing.py:184\u001b[0m, in \u001b[0;36m_init_ipython_printing.<locals>._print_latex_png\u001b[0;34m(o)\u001b[0m\n\u001b[1;32m    182\u001b[0m \u001b[38;5;28;01mif\u001b[39;00m latex_mode \u001b[38;5;241m!=\u001b[39m \u001b[38;5;124m'\u001b[39m\u001b[38;5;124minline\u001b[39m\u001b[38;5;124m'\u001b[39m:\n\u001b[1;32m    183\u001b[0m     s \u001b[38;5;241m=\u001b[39m latex(o, mode\u001b[38;5;241m=\u001b[39m\u001b[38;5;124m'\u001b[39m\u001b[38;5;124minline\u001b[39m\u001b[38;5;124m'\u001b[39m, \u001b[38;5;241m*\u001b[39m\u001b[38;5;241m*\u001b[39msettings)\n\u001b[0;32m--> 184\u001b[0m \u001b[38;5;28;01mreturn\u001b[39;00m \u001b[43m_matplotlib_wrapper\u001b[49m\u001b[43m(\u001b[49m\u001b[43ms\u001b[49m\u001b[43m)\u001b[49m\n",
      "File \u001b[0;32m~/Desktop/computer_chemistry/venv/lib/python3.11/site-packages/sympy/interactive/printing.py:118\u001b[0m, in \u001b[0;36m_init_ipython_printing.<locals>._matplotlib_wrapper\u001b[0;34m(o)\u001b[0m\n\u001b[1;32m    116\u001b[0m \u001b[38;5;28;01mtry\u001b[39;00m:\n\u001b[1;32m    117\u001b[0m     \u001b[38;5;28;01mtry\u001b[39;00m:\n\u001b[0;32m--> 118\u001b[0m         \u001b[38;5;28;01mreturn\u001b[39;00m \u001b[43mlatex_to_png\u001b[49m(o, color\u001b[38;5;241m=\u001b[39mforecolor, scale\u001b[38;5;241m=\u001b[39mscale)\n\u001b[1;32m    119\u001b[0m     \u001b[38;5;28;01mexcept\u001b[39;00m \u001b[38;5;167;01mTypeError\u001b[39;00m: \u001b[38;5;66;03m#  Old IPython version without color and scale\u001b[39;00m\n\u001b[1;32m    120\u001b[0m         \u001b[38;5;28;01mreturn\u001b[39;00m latex_to_png(o)\n",
      "\u001b[0;31mNameError\u001b[0m: cannot access free variable 'latex_to_png' where it is not associated with a value in enclosing scope"
     ]
    },
    {
     "data": {
      "text/latex": [
       "$\\displaystyle f{\\left(2 \\right)} = -2.79602804682049$"
      ],
      "text/plain": [
       "f(2) = -2.79602804682049"
      ]
     },
     "metadata": {},
     "output_type": "display_data"
    }
   ],
   "source": [
    "# 課題6\n",
    "\n",
    "f = sym.Function(\"f\")\n",
    "eq = sym.Eq(f(x).diff(x, 2) - 2*f(x).diff(x, 1) + 5*f(x), 0)\n",
    "\n",
    "ans1 = sym.dsolve(eq)\n",
    "ans2 = sym.dsolve(eq, ics={f(0):0, f(x).diff(x).subs(x, 0): 1})\n",
    "ans3 = ans2.subs(x, 2).evalf()\n",
    "\n",
    "anses = [ans1, ans2, ans3]\n",
    "\n",
    "for ans in anses:\n",
    "    display(ans)\n"
   ]
  },
  {
   "cell_type": "code",
   "execution_count": 39,
   "metadata": {},
   "outputs": [
    {
     "ename": "NameError",
     "evalue": "cannot access free variable 'latex_to_png' where it is not associated with a value in enclosing scope",
     "output_type": "error",
     "traceback": [
      "\u001b[0;31m---------------------------------------------------------------------------\u001b[0m",
      "\u001b[0;31mRuntimeError\u001b[0m                              Traceback (most recent call last)",
      "File \u001b[0;32m~/Desktop/computer_chemistry/venv/lib/python3.11/site-packages/sympy/interactive/printing.py:178\u001b[0m, in \u001b[0;36m_init_ipython_printing.<locals>._print_latex_png\u001b[0;34m(o)\u001b[0m\n\u001b[1;32m    177\u001b[0m \u001b[38;5;28;01mtry\u001b[39;00m:\n\u001b[0;32m--> 178\u001b[0m     \u001b[38;5;28;01mreturn\u001b[39;00m \u001b[43m_preview_wrapper\u001b[49m\u001b[43m(\u001b[49m\u001b[43ms\u001b[49m\u001b[43m)\u001b[49m\n\u001b[1;32m    179\u001b[0m \u001b[38;5;28;01mexcept\u001b[39;00m \u001b[38;5;167;01mRuntimeError\u001b[39;00m \u001b[38;5;28;01mas\u001b[39;00m e:\n",
      "File \u001b[0;32m~/Desktop/computer_chemistry/venv/lib/python3.11/site-packages/sympy/interactive/printing.py:89\u001b[0m, in \u001b[0;36m_init_ipython_printing.<locals>._preview_wrapper\u001b[0;34m(o)\u001b[0m\n\u001b[1;32m     88\u001b[0m \u001b[38;5;28;01mtry\u001b[39;00m:\n\u001b[0;32m---> 89\u001b[0m     \u001b[43mpreview\u001b[49m\u001b[43m(\u001b[49m\u001b[43mo\u001b[49m\u001b[43m,\u001b[49m\u001b[43m \u001b[49m\u001b[43moutput\u001b[49m\u001b[38;5;241;43m=\u001b[39;49m\u001b[38;5;124;43m'\u001b[39;49m\u001b[38;5;124;43mpng\u001b[39;49m\u001b[38;5;124;43m'\u001b[39;49m\u001b[43m,\u001b[49m\u001b[43m \u001b[49m\u001b[43mviewer\u001b[49m\u001b[38;5;241;43m=\u001b[39;49m\u001b[38;5;124;43m'\u001b[39;49m\u001b[38;5;124;43mBytesIO\u001b[39;49m\u001b[38;5;124;43m'\u001b[39;49m\u001b[43m,\u001b[49m\u001b[43m \u001b[49m\u001b[43meuler\u001b[49m\u001b[38;5;241;43m=\u001b[39;49m\u001b[43meuler\u001b[49m\u001b[43m,\u001b[49m\n\u001b[1;32m     90\u001b[0m \u001b[43m            \u001b[49m\u001b[43moutputbuffer\u001b[49m\u001b[38;5;241;43m=\u001b[39;49m\u001b[43mexprbuffer\u001b[49m\u001b[43m,\u001b[49m\u001b[43m \u001b[49m\u001b[43mextra_preamble\u001b[49m\u001b[38;5;241;43m=\u001b[39;49m\u001b[43mextra_preamble\u001b[49m\u001b[43m,\u001b[49m\n\u001b[1;32m     91\u001b[0m \u001b[43m            \u001b[49m\u001b[43mdvioptions\u001b[49m\u001b[38;5;241;43m=\u001b[39;49m\u001b[43mdvioptions\u001b[49m\u001b[43m,\u001b[49m\u001b[43m \u001b[49m\u001b[43mfontsize\u001b[49m\u001b[38;5;241;43m=\u001b[39;49m\u001b[43mfontsize\u001b[49m\u001b[43m)\u001b[49m\n\u001b[1;32m     92\u001b[0m \u001b[38;5;28;01mexcept\u001b[39;00m \u001b[38;5;167;01mException\u001b[39;00m \u001b[38;5;28;01mas\u001b[39;00m e:\n\u001b[1;32m     93\u001b[0m     \u001b[38;5;66;03m# IPython swallows exceptions\u001b[39;00m\n",
      "File \u001b[0;32m~/Desktop/computer_chemistry/venv/lib/python3.11/site-packages/sympy/printing/preview.py:308\u001b[0m, in \u001b[0;36mpreview\u001b[0;34m(expr, output, viewer, euler, packages, filename, outputbuffer, preamble, dvioptions, outputTexFile, extra_preamble, fontsize, **latex_settings)\u001b[0m\n\u001b[1;32m    307\u001b[0m \u001b[38;5;28;01mif\u001b[39;00m \u001b[38;5;129;01mnot\u001b[39;00m shutil\u001b[38;5;241m.\u001b[39mwhich(\u001b[38;5;124m'\u001b[39m\u001b[38;5;124mlatex\u001b[39m\u001b[38;5;124m'\u001b[39m):\n\u001b[0;32m--> 308\u001b[0m     \u001b[38;5;28;01mraise\u001b[39;00m \u001b[38;5;167;01mRuntimeError\u001b[39;00m(\u001b[38;5;124m\"\u001b[39m\u001b[38;5;124mlatex program is not installed\u001b[39m\u001b[38;5;124m\"\u001b[39m)\n\u001b[1;32m    310\u001b[0m \u001b[38;5;28;01mtry\u001b[39;00m:\n",
      "\u001b[0;31mRuntimeError\u001b[0m: latex program is not installed",
      "\nDuring handling of the above exception, another exception occurred:\n",
      "\u001b[0;31mNameError\u001b[0m                                 Traceback (most recent call last)",
      "File \u001b[0;32m~/Desktop/computer_chemistry/venv/lib/python3.11/site-packages/IPython/core/formatters.py:347\u001b[0m, in \u001b[0;36m__call__\u001b[0;34m(self, obj)\u001b[0m\n",
      "File \u001b[0;32m~/Desktop/computer_chemistry/venv/lib/python3.11/site-packages/sympy/interactive/printing.py:184\u001b[0m, in \u001b[0;36m_init_ipython_printing.<locals>._print_latex_png\u001b[0;34m(o)\u001b[0m\n\u001b[1;32m    182\u001b[0m \u001b[38;5;28;01mif\u001b[39;00m latex_mode \u001b[38;5;241m!=\u001b[39m \u001b[38;5;124m'\u001b[39m\u001b[38;5;124minline\u001b[39m\u001b[38;5;124m'\u001b[39m:\n\u001b[1;32m    183\u001b[0m     s \u001b[38;5;241m=\u001b[39m latex(o, mode\u001b[38;5;241m=\u001b[39m\u001b[38;5;124m'\u001b[39m\u001b[38;5;124minline\u001b[39m\u001b[38;5;124m'\u001b[39m, \u001b[38;5;241m*\u001b[39m\u001b[38;5;241m*\u001b[39msettings)\n\u001b[0;32m--> 184\u001b[0m \u001b[38;5;28;01mreturn\u001b[39;00m \u001b[43m_matplotlib_wrapper\u001b[49m\u001b[43m(\u001b[49m\u001b[43ms\u001b[49m\u001b[43m)\u001b[49m\n",
      "File \u001b[0;32m~/Desktop/computer_chemistry/venv/lib/python3.11/site-packages/sympy/interactive/printing.py:118\u001b[0m, in \u001b[0;36m_init_ipython_printing.<locals>._matplotlib_wrapper\u001b[0;34m(o)\u001b[0m\n\u001b[1;32m    116\u001b[0m \u001b[38;5;28;01mtry\u001b[39;00m:\n\u001b[1;32m    117\u001b[0m     \u001b[38;5;28;01mtry\u001b[39;00m:\n\u001b[0;32m--> 118\u001b[0m         \u001b[38;5;28;01mreturn\u001b[39;00m \u001b[43mlatex_to_png\u001b[49m(o, color\u001b[38;5;241m=\u001b[39mforecolor, scale\u001b[38;5;241m=\u001b[39mscale)\n\u001b[1;32m    119\u001b[0m     \u001b[38;5;28;01mexcept\u001b[39;00m \u001b[38;5;167;01mTypeError\u001b[39;00m: \u001b[38;5;66;03m#  Old IPython version without color and scale\u001b[39;00m\n\u001b[1;32m    120\u001b[0m         \u001b[38;5;28;01mreturn\u001b[39;00m latex_to_png(o)\n",
      "\u001b[0;31mNameError\u001b[0m: cannot access free variable 'latex_to_png' where it is not associated with a value in enclosing scope"
     ]
    },
    {
     "data": {
      "text/latex": [
       "$\\displaystyle \\int x^{2}\\, dx = \\frac{x^{3}}{3}$"
      ],
      "text/plain": [
       "⌠          3\n",
       "⎮  2      x \n",
       "⎮ x  dx = ──\n",
       "⌡         3 "
      ]
     },
     "metadata": {},
     "output_type": "display_data"
    },
    {
     "ename": "NameError",
     "evalue": "cannot access free variable 'latex_to_png' where it is not associated with a value in enclosing scope",
     "output_type": "error",
     "traceback": [
      "\u001b[0;31m---------------------------------------------------------------------------\u001b[0m",
      "\u001b[0;31mRuntimeError\u001b[0m                              Traceback (most recent call last)",
      "File \u001b[0;32m~/Desktop/computer_chemistry/venv/lib/python3.11/site-packages/sympy/interactive/printing.py:178\u001b[0m, in \u001b[0;36m_init_ipython_printing.<locals>._print_latex_png\u001b[0;34m(o)\u001b[0m\n\u001b[1;32m    177\u001b[0m \u001b[38;5;28;01mtry\u001b[39;00m:\n\u001b[0;32m--> 178\u001b[0m     \u001b[38;5;28;01mreturn\u001b[39;00m \u001b[43m_preview_wrapper\u001b[49m\u001b[43m(\u001b[49m\u001b[43ms\u001b[49m\u001b[43m)\u001b[49m\n\u001b[1;32m    179\u001b[0m \u001b[38;5;28;01mexcept\u001b[39;00m \u001b[38;5;167;01mRuntimeError\u001b[39;00m \u001b[38;5;28;01mas\u001b[39;00m e:\n",
      "File \u001b[0;32m~/Desktop/computer_chemistry/venv/lib/python3.11/site-packages/sympy/interactive/printing.py:89\u001b[0m, in \u001b[0;36m_init_ipython_printing.<locals>._preview_wrapper\u001b[0;34m(o)\u001b[0m\n\u001b[1;32m     88\u001b[0m \u001b[38;5;28;01mtry\u001b[39;00m:\n\u001b[0;32m---> 89\u001b[0m     \u001b[43mpreview\u001b[49m\u001b[43m(\u001b[49m\u001b[43mo\u001b[49m\u001b[43m,\u001b[49m\u001b[43m \u001b[49m\u001b[43moutput\u001b[49m\u001b[38;5;241;43m=\u001b[39;49m\u001b[38;5;124;43m'\u001b[39;49m\u001b[38;5;124;43mpng\u001b[39;49m\u001b[38;5;124;43m'\u001b[39;49m\u001b[43m,\u001b[49m\u001b[43m \u001b[49m\u001b[43mviewer\u001b[49m\u001b[38;5;241;43m=\u001b[39;49m\u001b[38;5;124;43m'\u001b[39;49m\u001b[38;5;124;43mBytesIO\u001b[39;49m\u001b[38;5;124;43m'\u001b[39;49m\u001b[43m,\u001b[49m\u001b[43m \u001b[49m\u001b[43meuler\u001b[49m\u001b[38;5;241;43m=\u001b[39;49m\u001b[43meuler\u001b[49m\u001b[43m,\u001b[49m\n\u001b[1;32m     90\u001b[0m \u001b[43m            \u001b[49m\u001b[43moutputbuffer\u001b[49m\u001b[38;5;241;43m=\u001b[39;49m\u001b[43mexprbuffer\u001b[49m\u001b[43m,\u001b[49m\u001b[43m \u001b[49m\u001b[43mextra_preamble\u001b[49m\u001b[38;5;241;43m=\u001b[39;49m\u001b[43mextra_preamble\u001b[49m\u001b[43m,\u001b[49m\n\u001b[1;32m     91\u001b[0m \u001b[43m            \u001b[49m\u001b[43mdvioptions\u001b[49m\u001b[38;5;241;43m=\u001b[39;49m\u001b[43mdvioptions\u001b[49m\u001b[43m,\u001b[49m\u001b[43m \u001b[49m\u001b[43mfontsize\u001b[49m\u001b[38;5;241;43m=\u001b[39;49m\u001b[43mfontsize\u001b[49m\u001b[43m)\u001b[49m\n\u001b[1;32m     92\u001b[0m \u001b[38;5;28;01mexcept\u001b[39;00m \u001b[38;5;167;01mException\u001b[39;00m \u001b[38;5;28;01mas\u001b[39;00m e:\n\u001b[1;32m     93\u001b[0m     \u001b[38;5;66;03m# IPython swallows exceptions\u001b[39;00m\n",
      "File \u001b[0;32m~/Desktop/computer_chemistry/venv/lib/python3.11/site-packages/sympy/printing/preview.py:308\u001b[0m, in \u001b[0;36mpreview\u001b[0;34m(expr, output, viewer, euler, packages, filename, outputbuffer, preamble, dvioptions, outputTexFile, extra_preamble, fontsize, **latex_settings)\u001b[0m\n\u001b[1;32m    307\u001b[0m \u001b[38;5;28;01mif\u001b[39;00m \u001b[38;5;129;01mnot\u001b[39;00m shutil\u001b[38;5;241m.\u001b[39mwhich(\u001b[38;5;124m'\u001b[39m\u001b[38;5;124mlatex\u001b[39m\u001b[38;5;124m'\u001b[39m):\n\u001b[0;32m--> 308\u001b[0m     \u001b[38;5;28;01mraise\u001b[39;00m \u001b[38;5;167;01mRuntimeError\u001b[39;00m(\u001b[38;5;124m\"\u001b[39m\u001b[38;5;124mlatex program is not installed\u001b[39m\u001b[38;5;124m\"\u001b[39m)\n\u001b[1;32m    310\u001b[0m \u001b[38;5;28;01mtry\u001b[39;00m:\n",
      "\u001b[0;31mRuntimeError\u001b[0m: latex program is not installed",
      "\nDuring handling of the above exception, another exception occurred:\n",
      "\u001b[0;31mNameError\u001b[0m                                 Traceback (most recent call last)",
      "File \u001b[0;32m~/Desktop/computer_chemistry/venv/lib/python3.11/site-packages/IPython/core/formatters.py:347\u001b[0m, in \u001b[0;36m__call__\u001b[0;34m(self, obj)\u001b[0m\n",
      "File \u001b[0;32m~/Desktop/computer_chemistry/venv/lib/python3.11/site-packages/sympy/interactive/printing.py:184\u001b[0m, in \u001b[0;36m_init_ipython_printing.<locals>._print_latex_png\u001b[0;34m(o)\u001b[0m\n\u001b[1;32m    182\u001b[0m \u001b[38;5;28;01mif\u001b[39;00m latex_mode \u001b[38;5;241m!=\u001b[39m \u001b[38;5;124m'\u001b[39m\u001b[38;5;124minline\u001b[39m\u001b[38;5;124m'\u001b[39m:\n\u001b[1;32m    183\u001b[0m     s \u001b[38;5;241m=\u001b[39m latex(o, mode\u001b[38;5;241m=\u001b[39m\u001b[38;5;124m'\u001b[39m\u001b[38;5;124minline\u001b[39m\u001b[38;5;124m'\u001b[39m, \u001b[38;5;241m*\u001b[39m\u001b[38;5;241m*\u001b[39msettings)\n\u001b[0;32m--> 184\u001b[0m \u001b[38;5;28;01mreturn\u001b[39;00m \u001b[43m_matplotlib_wrapper\u001b[49m\u001b[43m(\u001b[49m\u001b[43ms\u001b[49m\u001b[43m)\u001b[49m\n",
      "File \u001b[0;32m~/Desktop/computer_chemistry/venv/lib/python3.11/site-packages/sympy/interactive/printing.py:118\u001b[0m, in \u001b[0;36m_init_ipython_printing.<locals>._matplotlib_wrapper\u001b[0;34m(o)\u001b[0m\n\u001b[1;32m    116\u001b[0m \u001b[38;5;28;01mtry\u001b[39;00m:\n\u001b[1;32m    117\u001b[0m     \u001b[38;5;28;01mtry\u001b[39;00m:\n\u001b[0;32m--> 118\u001b[0m         \u001b[38;5;28;01mreturn\u001b[39;00m \u001b[43mlatex_to_png\u001b[49m(o, color\u001b[38;5;241m=\u001b[39mforecolor, scale\u001b[38;5;241m=\u001b[39mscale)\n\u001b[1;32m    119\u001b[0m     \u001b[38;5;28;01mexcept\u001b[39;00m \u001b[38;5;167;01mTypeError\u001b[39;00m: \u001b[38;5;66;03m#  Old IPython version without color and scale\u001b[39;00m\n\u001b[1;32m    120\u001b[0m         \u001b[38;5;28;01mreturn\u001b[39;00m latex_to_png(o)\n",
      "\u001b[0;31mNameError\u001b[0m: cannot access free variable 'latex_to_png' where it is not associated with a value in enclosing scope"
     ]
    },
    {
     "data": {
      "text/latex": [
       "$\\displaystyle \\int a^{x}\\, dx = \\begin{cases} \\frac{a^{x}}{\\log{\\left(a \\right)}} & \\text{for}\\: \\log{\\left(a \\right)} \\neq 0 \\\\x & \\text{otherwise} \\end{cases}$"
      ],
      "text/plain": [
       "          ⎧   x                  \n",
       "⌠         ⎪  a                   \n",
       "⎮  x      ⎪──────  for log(a) ≠ 0\n",
       "⎮ a  dx = ⎨log(a)                \n",
       "⌡         ⎪                      \n",
       "          ⎪  x       otherwise   \n",
       "          ⎩                      "
      ]
     },
     "metadata": {},
     "output_type": "display_data"
    },
    {
     "ename": "NameError",
     "evalue": "cannot access free variable 'latex_to_png' where it is not associated with a value in enclosing scope",
     "output_type": "error",
     "traceback": [
      "\u001b[0;31m---------------------------------------------------------------------------\u001b[0m",
      "\u001b[0;31mRuntimeError\u001b[0m                              Traceback (most recent call last)",
      "File \u001b[0;32m~/Desktop/computer_chemistry/venv/lib/python3.11/site-packages/sympy/interactive/printing.py:178\u001b[0m, in \u001b[0;36m_init_ipython_printing.<locals>._print_latex_png\u001b[0;34m(o)\u001b[0m\n\u001b[1;32m    177\u001b[0m \u001b[38;5;28;01mtry\u001b[39;00m:\n\u001b[0;32m--> 178\u001b[0m     \u001b[38;5;28;01mreturn\u001b[39;00m \u001b[43m_preview_wrapper\u001b[49m\u001b[43m(\u001b[49m\u001b[43ms\u001b[49m\u001b[43m)\u001b[49m\n\u001b[1;32m    179\u001b[0m \u001b[38;5;28;01mexcept\u001b[39;00m \u001b[38;5;167;01mRuntimeError\u001b[39;00m \u001b[38;5;28;01mas\u001b[39;00m e:\n",
      "File \u001b[0;32m~/Desktop/computer_chemistry/venv/lib/python3.11/site-packages/sympy/interactive/printing.py:89\u001b[0m, in \u001b[0;36m_init_ipython_printing.<locals>._preview_wrapper\u001b[0;34m(o)\u001b[0m\n\u001b[1;32m     88\u001b[0m \u001b[38;5;28;01mtry\u001b[39;00m:\n\u001b[0;32m---> 89\u001b[0m     \u001b[43mpreview\u001b[49m\u001b[43m(\u001b[49m\u001b[43mo\u001b[49m\u001b[43m,\u001b[49m\u001b[43m \u001b[49m\u001b[43moutput\u001b[49m\u001b[38;5;241;43m=\u001b[39;49m\u001b[38;5;124;43m'\u001b[39;49m\u001b[38;5;124;43mpng\u001b[39;49m\u001b[38;5;124;43m'\u001b[39;49m\u001b[43m,\u001b[49m\u001b[43m \u001b[49m\u001b[43mviewer\u001b[49m\u001b[38;5;241;43m=\u001b[39;49m\u001b[38;5;124;43m'\u001b[39;49m\u001b[38;5;124;43mBytesIO\u001b[39;49m\u001b[38;5;124;43m'\u001b[39;49m\u001b[43m,\u001b[49m\u001b[43m \u001b[49m\u001b[43meuler\u001b[49m\u001b[38;5;241;43m=\u001b[39;49m\u001b[43meuler\u001b[49m\u001b[43m,\u001b[49m\n\u001b[1;32m     90\u001b[0m \u001b[43m            \u001b[49m\u001b[43moutputbuffer\u001b[49m\u001b[38;5;241;43m=\u001b[39;49m\u001b[43mexprbuffer\u001b[49m\u001b[43m,\u001b[49m\u001b[43m \u001b[49m\u001b[43mextra_preamble\u001b[49m\u001b[38;5;241;43m=\u001b[39;49m\u001b[43mextra_preamble\u001b[49m\u001b[43m,\u001b[49m\n\u001b[1;32m     91\u001b[0m \u001b[43m            \u001b[49m\u001b[43mdvioptions\u001b[49m\u001b[38;5;241;43m=\u001b[39;49m\u001b[43mdvioptions\u001b[49m\u001b[43m,\u001b[49m\u001b[43m \u001b[49m\u001b[43mfontsize\u001b[49m\u001b[38;5;241;43m=\u001b[39;49m\u001b[43mfontsize\u001b[49m\u001b[43m)\u001b[49m\n\u001b[1;32m     92\u001b[0m \u001b[38;5;28;01mexcept\u001b[39;00m \u001b[38;5;167;01mException\u001b[39;00m \u001b[38;5;28;01mas\u001b[39;00m e:\n\u001b[1;32m     93\u001b[0m     \u001b[38;5;66;03m# IPython swallows exceptions\u001b[39;00m\n",
      "File \u001b[0;32m~/Desktop/computer_chemistry/venv/lib/python3.11/site-packages/sympy/printing/preview.py:308\u001b[0m, in \u001b[0;36mpreview\u001b[0;34m(expr, output, viewer, euler, packages, filename, outputbuffer, preamble, dvioptions, outputTexFile, extra_preamble, fontsize, **latex_settings)\u001b[0m\n\u001b[1;32m    307\u001b[0m \u001b[38;5;28;01mif\u001b[39;00m \u001b[38;5;129;01mnot\u001b[39;00m shutil\u001b[38;5;241m.\u001b[39mwhich(\u001b[38;5;124m'\u001b[39m\u001b[38;5;124mlatex\u001b[39m\u001b[38;5;124m'\u001b[39m):\n\u001b[0;32m--> 308\u001b[0m     \u001b[38;5;28;01mraise\u001b[39;00m \u001b[38;5;167;01mRuntimeError\u001b[39;00m(\u001b[38;5;124m\"\u001b[39m\u001b[38;5;124mlatex program is not installed\u001b[39m\u001b[38;5;124m\"\u001b[39m)\n\u001b[1;32m    310\u001b[0m \u001b[38;5;28;01mtry\u001b[39;00m:\n",
      "\u001b[0;31mRuntimeError\u001b[0m: latex program is not installed",
      "\nDuring handling of the above exception, another exception occurred:\n",
      "\u001b[0;31mNameError\u001b[0m                                 Traceback (most recent call last)",
      "File \u001b[0;32m~/Desktop/computer_chemistry/venv/lib/python3.11/site-packages/IPython/core/formatters.py:347\u001b[0m, in \u001b[0;36m__call__\u001b[0;34m(self, obj)\u001b[0m\n",
      "File \u001b[0;32m~/Desktop/computer_chemistry/venv/lib/python3.11/site-packages/sympy/interactive/printing.py:184\u001b[0m, in \u001b[0;36m_init_ipython_printing.<locals>._print_latex_png\u001b[0;34m(o)\u001b[0m\n\u001b[1;32m    182\u001b[0m \u001b[38;5;28;01mif\u001b[39;00m latex_mode \u001b[38;5;241m!=\u001b[39m \u001b[38;5;124m'\u001b[39m\u001b[38;5;124minline\u001b[39m\u001b[38;5;124m'\u001b[39m:\n\u001b[1;32m    183\u001b[0m     s \u001b[38;5;241m=\u001b[39m latex(o, mode\u001b[38;5;241m=\u001b[39m\u001b[38;5;124m'\u001b[39m\u001b[38;5;124minline\u001b[39m\u001b[38;5;124m'\u001b[39m, \u001b[38;5;241m*\u001b[39m\u001b[38;5;241m*\u001b[39msettings)\n\u001b[0;32m--> 184\u001b[0m \u001b[38;5;28;01mreturn\u001b[39;00m \u001b[43m_matplotlib_wrapper\u001b[49m\u001b[43m(\u001b[49m\u001b[43ms\u001b[49m\u001b[43m)\u001b[49m\n",
      "File \u001b[0;32m~/Desktop/computer_chemistry/venv/lib/python3.11/site-packages/sympy/interactive/printing.py:118\u001b[0m, in \u001b[0;36m_init_ipython_printing.<locals>._matplotlib_wrapper\u001b[0;34m(o)\u001b[0m\n\u001b[1;32m    116\u001b[0m \u001b[38;5;28;01mtry\u001b[39;00m:\n\u001b[1;32m    117\u001b[0m     \u001b[38;5;28;01mtry\u001b[39;00m:\n\u001b[0;32m--> 118\u001b[0m         \u001b[38;5;28;01mreturn\u001b[39;00m \u001b[43mlatex_to_png\u001b[49m(o, color\u001b[38;5;241m=\u001b[39mforecolor, scale\u001b[38;5;241m=\u001b[39mscale)\n\u001b[1;32m    119\u001b[0m     \u001b[38;5;28;01mexcept\u001b[39;00m \u001b[38;5;167;01mTypeError\u001b[39;00m: \u001b[38;5;66;03m#  Old IPython version without color and scale\u001b[39;00m\n\u001b[1;32m    120\u001b[0m         \u001b[38;5;28;01mreturn\u001b[39;00m latex_to_png(o)\n",
      "\u001b[0;31mNameError\u001b[0m: cannot access free variable 'latex_to_png' where it is not associated with a value in enclosing scope"
     ]
    },
    {
     "data": {
      "text/latex": [
       "$\\displaystyle \\int e^{- x}\\, dx = - e^{- x}$"
      ],
      "text/plain": [
       "⌠              \n",
       "⎮  -x        -x\n",
       "⎮ ℯ   dx = -ℯ  \n",
       "⌡              "
      ]
     },
     "metadata": {},
     "output_type": "display_data"
    },
    {
     "ename": "NameError",
     "evalue": "cannot access free variable 'latex_to_png' where it is not associated with a value in enclosing scope",
     "output_type": "error",
     "traceback": [
      "\u001b[0;31m---------------------------------------------------------------------------\u001b[0m",
      "\u001b[0;31mRuntimeError\u001b[0m                              Traceback (most recent call last)",
      "File \u001b[0;32m~/Desktop/computer_chemistry/venv/lib/python3.11/site-packages/sympy/interactive/printing.py:178\u001b[0m, in \u001b[0;36m_init_ipython_printing.<locals>._print_latex_png\u001b[0;34m(o)\u001b[0m\n\u001b[1;32m    177\u001b[0m \u001b[38;5;28;01mtry\u001b[39;00m:\n\u001b[0;32m--> 178\u001b[0m     \u001b[38;5;28;01mreturn\u001b[39;00m \u001b[43m_preview_wrapper\u001b[49m\u001b[43m(\u001b[49m\u001b[43ms\u001b[49m\u001b[43m)\u001b[49m\n\u001b[1;32m    179\u001b[0m \u001b[38;5;28;01mexcept\u001b[39;00m \u001b[38;5;167;01mRuntimeError\u001b[39;00m \u001b[38;5;28;01mas\u001b[39;00m e:\n",
      "File \u001b[0;32m~/Desktop/computer_chemistry/venv/lib/python3.11/site-packages/sympy/interactive/printing.py:89\u001b[0m, in \u001b[0;36m_init_ipython_printing.<locals>._preview_wrapper\u001b[0;34m(o)\u001b[0m\n\u001b[1;32m     88\u001b[0m \u001b[38;5;28;01mtry\u001b[39;00m:\n\u001b[0;32m---> 89\u001b[0m     \u001b[43mpreview\u001b[49m\u001b[43m(\u001b[49m\u001b[43mo\u001b[49m\u001b[43m,\u001b[49m\u001b[43m \u001b[49m\u001b[43moutput\u001b[49m\u001b[38;5;241;43m=\u001b[39;49m\u001b[38;5;124;43m'\u001b[39;49m\u001b[38;5;124;43mpng\u001b[39;49m\u001b[38;5;124;43m'\u001b[39;49m\u001b[43m,\u001b[49m\u001b[43m \u001b[49m\u001b[43mviewer\u001b[49m\u001b[38;5;241;43m=\u001b[39;49m\u001b[38;5;124;43m'\u001b[39;49m\u001b[38;5;124;43mBytesIO\u001b[39;49m\u001b[38;5;124;43m'\u001b[39;49m\u001b[43m,\u001b[49m\u001b[43m \u001b[49m\u001b[43meuler\u001b[49m\u001b[38;5;241;43m=\u001b[39;49m\u001b[43meuler\u001b[49m\u001b[43m,\u001b[49m\n\u001b[1;32m     90\u001b[0m \u001b[43m            \u001b[49m\u001b[43moutputbuffer\u001b[49m\u001b[38;5;241;43m=\u001b[39;49m\u001b[43mexprbuffer\u001b[49m\u001b[43m,\u001b[49m\u001b[43m \u001b[49m\u001b[43mextra_preamble\u001b[49m\u001b[38;5;241;43m=\u001b[39;49m\u001b[43mextra_preamble\u001b[49m\u001b[43m,\u001b[49m\n\u001b[1;32m     91\u001b[0m \u001b[43m            \u001b[49m\u001b[43mdvioptions\u001b[49m\u001b[38;5;241;43m=\u001b[39;49m\u001b[43mdvioptions\u001b[49m\u001b[43m,\u001b[49m\u001b[43m \u001b[49m\u001b[43mfontsize\u001b[49m\u001b[38;5;241;43m=\u001b[39;49m\u001b[43mfontsize\u001b[49m\u001b[43m)\u001b[49m\n\u001b[1;32m     92\u001b[0m \u001b[38;5;28;01mexcept\u001b[39;00m \u001b[38;5;167;01mException\u001b[39;00m \u001b[38;5;28;01mas\u001b[39;00m e:\n\u001b[1;32m     93\u001b[0m     \u001b[38;5;66;03m# IPython swallows exceptions\u001b[39;00m\n",
      "File \u001b[0;32m~/Desktop/computer_chemistry/venv/lib/python3.11/site-packages/sympy/printing/preview.py:308\u001b[0m, in \u001b[0;36mpreview\u001b[0;34m(expr, output, viewer, euler, packages, filename, outputbuffer, preamble, dvioptions, outputTexFile, extra_preamble, fontsize, **latex_settings)\u001b[0m\n\u001b[1;32m    307\u001b[0m \u001b[38;5;28;01mif\u001b[39;00m \u001b[38;5;129;01mnot\u001b[39;00m shutil\u001b[38;5;241m.\u001b[39mwhich(\u001b[38;5;124m'\u001b[39m\u001b[38;5;124mlatex\u001b[39m\u001b[38;5;124m'\u001b[39m):\n\u001b[0;32m--> 308\u001b[0m     \u001b[38;5;28;01mraise\u001b[39;00m \u001b[38;5;167;01mRuntimeError\u001b[39;00m(\u001b[38;5;124m\"\u001b[39m\u001b[38;5;124mlatex program is not installed\u001b[39m\u001b[38;5;124m\"\u001b[39m)\n\u001b[1;32m    310\u001b[0m \u001b[38;5;28;01mtry\u001b[39;00m:\n",
      "\u001b[0;31mRuntimeError\u001b[0m: latex program is not installed",
      "\nDuring handling of the above exception, another exception occurred:\n",
      "\u001b[0;31mNameError\u001b[0m                                 Traceback (most recent call last)",
      "File \u001b[0;32m~/Desktop/computer_chemistry/venv/lib/python3.11/site-packages/IPython/core/formatters.py:347\u001b[0m, in \u001b[0;36m__call__\u001b[0;34m(self, obj)\u001b[0m\n",
      "File \u001b[0;32m~/Desktop/computer_chemistry/venv/lib/python3.11/site-packages/sympy/interactive/printing.py:184\u001b[0m, in \u001b[0;36m_init_ipython_printing.<locals>._print_latex_png\u001b[0;34m(o)\u001b[0m\n\u001b[1;32m    182\u001b[0m \u001b[38;5;28;01mif\u001b[39;00m latex_mode \u001b[38;5;241m!=\u001b[39m \u001b[38;5;124m'\u001b[39m\u001b[38;5;124minline\u001b[39m\u001b[38;5;124m'\u001b[39m:\n\u001b[1;32m    183\u001b[0m     s \u001b[38;5;241m=\u001b[39m latex(o, mode\u001b[38;5;241m=\u001b[39m\u001b[38;5;124m'\u001b[39m\u001b[38;5;124minline\u001b[39m\u001b[38;5;124m'\u001b[39m, \u001b[38;5;241m*\u001b[39m\u001b[38;5;241m*\u001b[39msettings)\n\u001b[0;32m--> 184\u001b[0m \u001b[38;5;28;01mreturn\u001b[39;00m \u001b[43m_matplotlib_wrapper\u001b[49m\u001b[43m(\u001b[49m\u001b[43ms\u001b[49m\u001b[43m)\u001b[49m\n",
      "File \u001b[0;32m~/Desktop/computer_chemistry/venv/lib/python3.11/site-packages/sympy/interactive/printing.py:118\u001b[0m, in \u001b[0;36m_init_ipython_printing.<locals>._matplotlib_wrapper\u001b[0;34m(o)\u001b[0m\n\u001b[1;32m    116\u001b[0m \u001b[38;5;28;01mtry\u001b[39;00m:\n\u001b[1;32m    117\u001b[0m     \u001b[38;5;28;01mtry\u001b[39;00m:\n\u001b[0;32m--> 118\u001b[0m         \u001b[38;5;28;01mreturn\u001b[39;00m \u001b[43mlatex_to_png\u001b[49m(o, color\u001b[38;5;241m=\u001b[39mforecolor, scale\u001b[38;5;241m=\u001b[39mscale)\n\u001b[1;32m    119\u001b[0m     \u001b[38;5;28;01mexcept\u001b[39;00m \u001b[38;5;167;01mTypeError\u001b[39;00m: \u001b[38;5;66;03m#  Old IPython version without color and scale\u001b[39;00m\n\u001b[1;32m    120\u001b[0m         \u001b[38;5;28;01mreturn\u001b[39;00m latex_to_png(o)\n",
      "\u001b[0;31mNameError\u001b[0m: cannot access free variable 'latex_to_png' where it is not associated with a value in enclosing scope"
     ]
    },
    {
     "data": {
      "text/latex": [
       "$\\displaystyle \\int \\frac{1}{x^{2} + 2}\\, dx = \\frac{\\sqrt{2} \\operatorname{atan}{\\left(\\frac{\\sqrt{2} x}{2} \\right)}}{2}$"
      ],
      "text/plain": [
       "                     ⎛√2⋅x⎞\n",
       "⌠             √2⋅atan⎜────⎟\n",
       "⎮   1                ⎝ 2  ⎠\n",
       "⎮ ────── dx = ─────────────\n",
       "⎮  2                2      \n",
       "⎮ x  + 2                   \n",
       "⌡                          "
      ]
     },
     "metadata": {},
     "output_type": "display_data"
    },
    {
     "ename": "NameError",
     "evalue": "cannot access free variable 'latex_to_png' where it is not associated with a value in enclosing scope",
     "output_type": "error",
     "traceback": [
      "\u001b[0;31m---------------------------------------------------------------------------\u001b[0m",
      "\u001b[0;31mRuntimeError\u001b[0m                              Traceback (most recent call last)",
      "File \u001b[0;32m~/Desktop/computer_chemistry/venv/lib/python3.11/site-packages/sympy/interactive/printing.py:178\u001b[0m, in \u001b[0;36m_init_ipython_printing.<locals>._print_latex_png\u001b[0;34m(o)\u001b[0m\n\u001b[1;32m    177\u001b[0m \u001b[38;5;28;01mtry\u001b[39;00m:\n\u001b[0;32m--> 178\u001b[0m     \u001b[38;5;28;01mreturn\u001b[39;00m \u001b[43m_preview_wrapper\u001b[49m\u001b[43m(\u001b[49m\u001b[43ms\u001b[49m\u001b[43m)\u001b[49m\n\u001b[1;32m    179\u001b[0m \u001b[38;5;28;01mexcept\u001b[39;00m \u001b[38;5;167;01mRuntimeError\u001b[39;00m \u001b[38;5;28;01mas\u001b[39;00m e:\n",
      "File \u001b[0;32m~/Desktop/computer_chemistry/venv/lib/python3.11/site-packages/sympy/interactive/printing.py:89\u001b[0m, in \u001b[0;36m_init_ipython_printing.<locals>._preview_wrapper\u001b[0;34m(o)\u001b[0m\n\u001b[1;32m     88\u001b[0m \u001b[38;5;28;01mtry\u001b[39;00m:\n\u001b[0;32m---> 89\u001b[0m     \u001b[43mpreview\u001b[49m\u001b[43m(\u001b[49m\u001b[43mo\u001b[49m\u001b[43m,\u001b[49m\u001b[43m \u001b[49m\u001b[43moutput\u001b[49m\u001b[38;5;241;43m=\u001b[39;49m\u001b[38;5;124;43m'\u001b[39;49m\u001b[38;5;124;43mpng\u001b[39;49m\u001b[38;5;124;43m'\u001b[39;49m\u001b[43m,\u001b[49m\u001b[43m \u001b[49m\u001b[43mviewer\u001b[49m\u001b[38;5;241;43m=\u001b[39;49m\u001b[38;5;124;43m'\u001b[39;49m\u001b[38;5;124;43mBytesIO\u001b[39;49m\u001b[38;5;124;43m'\u001b[39;49m\u001b[43m,\u001b[49m\u001b[43m \u001b[49m\u001b[43meuler\u001b[49m\u001b[38;5;241;43m=\u001b[39;49m\u001b[43meuler\u001b[49m\u001b[43m,\u001b[49m\n\u001b[1;32m     90\u001b[0m \u001b[43m            \u001b[49m\u001b[43moutputbuffer\u001b[49m\u001b[38;5;241;43m=\u001b[39;49m\u001b[43mexprbuffer\u001b[49m\u001b[43m,\u001b[49m\u001b[43m \u001b[49m\u001b[43mextra_preamble\u001b[49m\u001b[38;5;241;43m=\u001b[39;49m\u001b[43mextra_preamble\u001b[49m\u001b[43m,\u001b[49m\n\u001b[1;32m     91\u001b[0m \u001b[43m            \u001b[49m\u001b[43mdvioptions\u001b[49m\u001b[38;5;241;43m=\u001b[39;49m\u001b[43mdvioptions\u001b[49m\u001b[43m,\u001b[49m\u001b[43m \u001b[49m\u001b[43mfontsize\u001b[49m\u001b[38;5;241;43m=\u001b[39;49m\u001b[43mfontsize\u001b[49m\u001b[43m)\u001b[49m\n\u001b[1;32m     92\u001b[0m \u001b[38;5;28;01mexcept\u001b[39;00m \u001b[38;5;167;01mException\u001b[39;00m \u001b[38;5;28;01mas\u001b[39;00m e:\n\u001b[1;32m     93\u001b[0m     \u001b[38;5;66;03m# IPython swallows exceptions\u001b[39;00m\n",
      "File \u001b[0;32m~/Desktop/computer_chemistry/venv/lib/python3.11/site-packages/sympy/printing/preview.py:308\u001b[0m, in \u001b[0;36mpreview\u001b[0;34m(expr, output, viewer, euler, packages, filename, outputbuffer, preamble, dvioptions, outputTexFile, extra_preamble, fontsize, **latex_settings)\u001b[0m\n\u001b[1;32m    307\u001b[0m \u001b[38;5;28;01mif\u001b[39;00m \u001b[38;5;129;01mnot\u001b[39;00m shutil\u001b[38;5;241m.\u001b[39mwhich(\u001b[38;5;124m'\u001b[39m\u001b[38;5;124mlatex\u001b[39m\u001b[38;5;124m'\u001b[39m):\n\u001b[0;32m--> 308\u001b[0m     \u001b[38;5;28;01mraise\u001b[39;00m \u001b[38;5;167;01mRuntimeError\u001b[39;00m(\u001b[38;5;124m\"\u001b[39m\u001b[38;5;124mlatex program is not installed\u001b[39m\u001b[38;5;124m\"\u001b[39m)\n\u001b[1;32m    310\u001b[0m \u001b[38;5;28;01mtry\u001b[39;00m:\n",
      "\u001b[0;31mRuntimeError\u001b[0m: latex program is not installed",
      "\nDuring handling of the above exception, another exception occurred:\n",
      "\u001b[0;31mNameError\u001b[0m                                 Traceback (most recent call last)",
      "File \u001b[0;32m~/Desktop/computer_chemistry/venv/lib/python3.11/site-packages/IPython/core/formatters.py:347\u001b[0m, in \u001b[0;36m__call__\u001b[0;34m(self, obj)\u001b[0m\n",
      "File \u001b[0;32m~/Desktop/computer_chemistry/venv/lib/python3.11/site-packages/sympy/interactive/printing.py:184\u001b[0m, in \u001b[0;36m_init_ipython_printing.<locals>._print_latex_png\u001b[0;34m(o)\u001b[0m\n\u001b[1;32m    182\u001b[0m \u001b[38;5;28;01mif\u001b[39;00m latex_mode \u001b[38;5;241m!=\u001b[39m \u001b[38;5;124m'\u001b[39m\u001b[38;5;124minline\u001b[39m\u001b[38;5;124m'\u001b[39m:\n\u001b[1;32m    183\u001b[0m     s \u001b[38;5;241m=\u001b[39m latex(o, mode\u001b[38;5;241m=\u001b[39m\u001b[38;5;124m'\u001b[39m\u001b[38;5;124minline\u001b[39m\u001b[38;5;124m'\u001b[39m, \u001b[38;5;241m*\u001b[39m\u001b[38;5;241m*\u001b[39msettings)\n\u001b[0;32m--> 184\u001b[0m \u001b[38;5;28;01mreturn\u001b[39;00m \u001b[43m_matplotlib_wrapper\u001b[49m\u001b[43m(\u001b[49m\u001b[43ms\u001b[49m\u001b[43m)\u001b[49m\n",
      "File \u001b[0;32m~/Desktop/computer_chemistry/venv/lib/python3.11/site-packages/sympy/interactive/printing.py:118\u001b[0m, in \u001b[0;36m_init_ipython_printing.<locals>._matplotlib_wrapper\u001b[0;34m(o)\u001b[0m\n\u001b[1;32m    116\u001b[0m \u001b[38;5;28;01mtry\u001b[39;00m:\n\u001b[1;32m    117\u001b[0m     \u001b[38;5;28;01mtry\u001b[39;00m:\n\u001b[0;32m--> 118\u001b[0m         \u001b[38;5;28;01mreturn\u001b[39;00m \u001b[43mlatex_to_png\u001b[49m(o, color\u001b[38;5;241m=\u001b[39mforecolor, scale\u001b[38;5;241m=\u001b[39mscale)\n\u001b[1;32m    119\u001b[0m     \u001b[38;5;28;01mexcept\u001b[39;00m \u001b[38;5;167;01mTypeError\u001b[39;00m: \u001b[38;5;66;03m#  Old IPython version without color and scale\u001b[39;00m\n\u001b[1;32m    120\u001b[0m         \u001b[38;5;28;01mreturn\u001b[39;00m latex_to_png(o)\n",
      "\u001b[0;31mNameError\u001b[0m: cannot access free variable 'latex_to_png' where it is not associated with a value in enclosing scope"
     ]
    },
    {
     "data": {
      "text/latex": [
       "$\\displaystyle \\int \\log{\\left(x \\right)}^{2}\\, dx = x \\log{\\left(x \\right)}^{2} - 2 x \\log{\\left(x \\right)} + 2 x$"
      ],
      "text/plain": [
       "⌠                                          \n",
       "⎮    2              2                      \n",
       "⎮ log (x) dx = x⋅log (x) - 2⋅x⋅log(x) + 2⋅x\n",
       "⌡                                          "
      ]
     },
     "metadata": {},
     "output_type": "display_data"
    }
   ],
   "source": [
    "# 課題7\n",
    "a = sym.Symbol(\"a\")\n",
    "\n",
    "expr1 = x**2\n",
    "expr2 = a**x\n",
    "expr3 = sym.exp(-x)\n",
    "expr4 = 1/ (x**2 + 2)\n",
    "expr5 = (sym.log(x))**2\n",
    "\n",
    "exprs = [expr1, expr2, expr3, expr4, expr5]\n",
    "\n",
    "for expr in exprs:\n",
    "    integ = sym.Integral(expr, x)\n",
    "    eq = sym.Eq(integ, integ.doit())\n",
    "    display(eq)\n"
   ]
  },
  {
   "cell_type": "code",
   "execution_count": 61,
   "metadata": {},
   "outputs": [
    {
     "ename": "NameError",
     "evalue": "cannot access free variable 'latex_to_png' where it is not associated with a value in enclosing scope",
     "output_type": "error",
     "traceback": [
      "\u001b[0;31m---------------------------------------------------------------------------\u001b[0m",
      "\u001b[0;31mRuntimeError\u001b[0m                              Traceback (most recent call last)",
      "File \u001b[0;32m~/Desktop/computer_chemistry/venv/lib/python3.11/site-packages/sympy/interactive/printing.py:178\u001b[0m, in \u001b[0;36m_init_ipython_printing.<locals>._print_latex_png\u001b[0;34m(o)\u001b[0m\n\u001b[1;32m    177\u001b[0m \u001b[38;5;28;01mtry\u001b[39;00m:\n\u001b[0;32m--> 178\u001b[0m     \u001b[38;5;28;01mreturn\u001b[39;00m \u001b[43m_preview_wrapper\u001b[49m\u001b[43m(\u001b[49m\u001b[43ms\u001b[49m\u001b[43m)\u001b[49m\n\u001b[1;32m    179\u001b[0m \u001b[38;5;28;01mexcept\u001b[39;00m \u001b[38;5;167;01mRuntimeError\u001b[39;00m \u001b[38;5;28;01mas\u001b[39;00m e:\n",
      "File \u001b[0;32m~/Desktop/computer_chemistry/venv/lib/python3.11/site-packages/sympy/interactive/printing.py:89\u001b[0m, in \u001b[0;36m_init_ipython_printing.<locals>._preview_wrapper\u001b[0;34m(o)\u001b[0m\n\u001b[1;32m     88\u001b[0m \u001b[38;5;28;01mtry\u001b[39;00m:\n\u001b[0;32m---> 89\u001b[0m     \u001b[43mpreview\u001b[49m\u001b[43m(\u001b[49m\u001b[43mo\u001b[49m\u001b[43m,\u001b[49m\u001b[43m \u001b[49m\u001b[43moutput\u001b[49m\u001b[38;5;241;43m=\u001b[39;49m\u001b[38;5;124;43m'\u001b[39;49m\u001b[38;5;124;43mpng\u001b[39;49m\u001b[38;5;124;43m'\u001b[39;49m\u001b[43m,\u001b[49m\u001b[43m \u001b[49m\u001b[43mviewer\u001b[49m\u001b[38;5;241;43m=\u001b[39;49m\u001b[38;5;124;43m'\u001b[39;49m\u001b[38;5;124;43mBytesIO\u001b[39;49m\u001b[38;5;124;43m'\u001b[39;49m\u001b[43m,\u001b[49m\u001b[43m \u001b[49m\u001b[43meuler\u001b[49m\u001b[38;5;241;43m=\u001b[39;49m\u001b[43meuler\u001b[49m\u001b[43m,\u001b[49m\n\u001b[1;32m     90\u001b[0m \u001b[43m            \u001b[49m\u001b[43moutputbuffer\u001b[49m\u001b[38;5;241;43m=\u001b[39;49m\u001b[43mexprbuffer\u001b[49m\u001b[43m,\u001b[49m\u001b[43m \u001b[49m\u001b[43mextra_preamble\u001b[49m\u001b[38;5;241;43m=\u001b[39;49m\u001b[43mextra_preamble\u001b[49m\u001b[43m,\u001b[49m\n\u001b[1;32m     91\u001b[0m \u001b[43m            \u001b[49m\u001b[43mdvioptions\u001b[49m\u001b[38;5;241;43m=\u001b[39;49m\u001b[43mdvioptions\u001b[49m\u001b[43m,\u001b[49m\u001b[43m \u001b[49m\u001b[43mfontsize\u001b[49m\u001b[38;5;241;43m=\u001b[39;49m\u001b[43mfontsize\u001b[49m\u001b[43m)\u001b[49m\n\u001b[1;32m     92\u001b[0m \u001b[38;5;28;01mexcept\u001b[39;00m \u001b[38;5;167;01mException\u001b[39;00m \u001b[38;5;28;01mas\u001b[39;00m e:\n\u001b[1;32m     93\u001b[0m     \u001b[38;5;66;03m# IPython swallows exceptions\u001b[39;00m\n",
      "File \u001b[0;32m~/Desktop/computer_chemistry/venv/lib/python3.11/site-packages/sympy/printing/preview.py:308\u001b[0m, in \u001b[0;36mpreview\u001b[0;34m(expr, output, viewer, euler, packages, filename, outputbuffer, preamble, dvioptions, outputTexFile, extra_preamble, fontsize, **latex_settings)\u001b[0m\n\u001b[1;32m    307\u001b[0m \u001b[38;5;28;01mif\u001b[39;00m \u001b[38;5;129;01mnot\u001b[39;00m shutil\u001b[38;5;241m.\u001b[39mwhich(\u001b[38;5;124m'\u001b[39m\u001b[38;5;124mlatex\u001b[39m\u001b[38;5;124m'\u001b[39m):\n\u001b[0;32m--> 308\u001b[0m     \u001b[38;5;28;01mraise\u001b[39;00m \u001b[38;5;167;01mRuntimeError\u001b[39;00m(\u001b[38;5;124m\"\u001b[39m\u001b[38;5;124mlatex program is not installed\u001b[39m\u001b[38;5;124m\"\u001b[39m)\n\u001b[1;32m    310\u001b[0m \u001b[38;5;28;01mtry\u001b[39;00m:\n",
      "\u001b[0;31mRuntimeError\u001b[0m: latex program is not installed",
      "\nDuring handling of the above exception, another exception occurred:\n",
      "\u001b[0;31mNameError\u001b[0m                                 Traceback (most recent call last)",
      "File \u001b[0;32m~/Desktop/computer_chemistry/venv/lib/python3.11/site-packages/IPython/core/formatters.py:347\u001b[0m, in \u001b[0;36m__call__\u001b[0;34m(self, obj)\u001b[0m\n",
      "File \u001b[0;32m~/Desktop/computer_chemistry/venv/lib/python3.11/site-packages/sympy/interactive/printing.py:184\u001b[0m, in \u001b[0;36m_init_ipython_printing.<locals>._print_latex_png\u001b[0;34m(o)\u001b[0m\n\u001b[1;32m    182\u001b[0m \u001b[38;5;28;01mif\u001b[39;00m latex_mode \u001b[38;5;241m!=\u001b[39m \u001b[38;5;124m'\u001b[39m\u001b[38;5;124minline\u001b[39m\u001b[38;5;124m'\u001b[39m:\n\u001b[1;32m    183\u001b[0m     s \u001b[38;5;241m=\u001b[39m latex(o, mode\u001b[38;5;241m=\u001b[39m\u001b[38;5;124m'\u001b[39m\u001b[38;5;124minline\u001b[39m\u001b[38;5;124m'\u001b[39m, \u001b[38;5;241m*\u001b[39m\u001b[38;5;241m*\u001b[39msettings)\n\u001b[0;32m--> 184\u001b[0m \u001b[38;5;28;01mreturn\u001b[39;00m \u001b[43m_matplotlib_wrapper\u001b[49m\u001b[43m(\u001b[49m\u001b[43ms\u001b[49m\u001b[43m)\u001b[49m\n",
      "File \u001b[0;32m~/Desktop/computer_chemistry/venv/lib/python3.11/site-packages/sympy/interactive/printing.py:118\u001b[0m, in \u001b[0;36m_init_ipython_printing.<locals>._matplotlib_wrapper\u001b[0;34m(o)\u001b[0m\n\u001b[1;32m    116\u001b[0m \u001b[38;5;28;01mtry\u001b[39;00m:\n\u001b[1;32m    117\u001b[0m     \u001b[38;5;28;01mtry\u001b[39;00m:\n\u001b[0;32m--> 118\u001b[0m         \u001b[38;5;28;01mreturn\u001b[39;00m \u001b[43mlatex_to_png\u001b[49m(o, color\u001b[38;5;241m=\u001b[39mforecolor, scale\u001b[38;5;241m=\u001b[39mscale)\n\u001b[1;32m    119\u001b[0m     \u001b[38;5;28;01mexcept\u001b[39;00m \u001b[38;5;167;01mTypeError\u001b[39;00m: \u001b[38;5;66;03m#  Old IPython version without color and scale\u001b[39;00m\n\u001b[1;32m    120\u001b[0m         \u001b[38;5;28;01mreturn\u001b[39;00m latex_to_png(o)\n",
      "\u001b[0;31mNameError\u001b[0m: cannot access free variable 'latex_to_png' where it is not associated with a value in enclosing scope"
     ]
    },
    {
     "data": {
      "text/latex": [
       "$\\displaystyle \\int\\limits_{1}^{3} x^{2} e^{- x}\\, dx = - \\frac{17}{e^{3}} + \\frac{5}{e}$"
      ],
      "text/plain": [
       "3                             \n",
       "⌠                             \n",
       "⎮  2  -x            -3      -1\n",
       "⎮ x ⋅ℯ   dx = - 17⋅ℯ   + 5⋅ℯ  \n",
       "⌡                             \n",
       "1                             "
      ]
     },
     "metadata": {},
     "output_type": "display_data"
    },
    {
     "ename": "NameError",
     "evalue": "cannot access free variable 'latex_to_png' where it is not associated with a value in enclosing scope",
     "output_type": "error",
     "traceback": [
      "\u001b[0;31m---------------------------------------------------------------------------\u001b[0m",
      "\u001b[0;31mRuntimeError\u001b[0m                              Traceback (most recent call last)",
      "File \u001b[0;32m~/Desktop/computer_chemistry/venv/lib/python3.11/site-packages/sympy/interactive/printing.py:178\u001b[0m, in \u001b[0;36m_init_ipython_printing.<locals>._print_latex_png\u001b[0;34m(o)\u001b[0m\n\u001b[1;32m    177\u001b[0m \u001b[38;5;28;01mtry\u001b[39;00m:\n\u001b[0;32m--> 178\u001b[0m     \u001b[38;5;28;01mreturn\u001b[39;00m \u001b[43m_preview_wrapper\u001b[49m\u001b[43m(\u001b[49m\u001b[43ms\u001b[49m\u001b[43m)\u001b[49m\n\u001b[1;32m    179\u001b[0m \u001b[38;5;28;01mexcept\u001b[39;00m \u001b[38;5;167;01mRuntimeError\u001b[39;00m \u001b[38;5;28;01mas\u001b[39;00m e:\n",
      "File \u001b[0;32m~/Desktop/computer_chemistry/venv/lib/python3.11/site-packages/sympy/interactive/printing.py:89\u001b[0m, in \u001b[0;36m_init_ipython_printing.<locals>._preview_wrapper\u001b[0;34m(o)\u001b[0m\n\u001b[1;32m     88\u001b[0m \u001b[38;5;28;01mtry\u001b[39;00m:\n\u001b[0;32m---> 89\u001b[0m     \u001b[43mpreview\u001b[49m\u001b[43m(\u001b[49m\u001b[43mo\u001b[49m\u001b[43m,\u001b[49m\u001b[43m \u001b[49m\u001b[43moutput\u001b[49m\u001b[38;5;241;43m=\u001b[39;49m\u001b[38;5;124;43m'\u001b[39;49m\u001b[38;5;124;43mpng\u001b[39;49m\u001b[38;5;124;43m'\u001b[39;49m\u001b[43m,\u001b[49m\u001b[43m \u001b[49m\u001b[43mviewer\u001b[49m\u001b[38;5;241;43m=\u001b[39;49m\u001b[38;5;124;43m'\u001b[39;49m\u001b[38;5;124;43mBytesIO\u001b[39;49m\u001b[38;5;124;43m'\u001b[39;49m\u001b[43m,\u001b[49m\u001b[43m \u001b[49m\u001b[43meuler\u001b[49m\u001b[38;5;241;43m=\u001b[39;49m\u001b[43meuler\u001b[49m\u001b[43m,\u001b[49m\n\u001b[1;32m     90\u001b[0m \u001b[43m            \u001b[49m\u001b[43moutputbuffer\u001b[49m\u001b[38;5;241;43m=\u001b[39;49m\u001b[43mexprbuffer\u001b[49m\u001b[43m,\u001b[49m\u001b[43m \u001b[49m\u001b[43mextra_preamble\u001b[49m\u001b[38;5;241;43m=\u001b[39;49m\u001b[43mextra_preamble\u001b[49m\u001b[43m,\u001b[49m\n\u001b[1;32m     91\u001b[0m \u001b[43m            \u001b[49m\u001b[43mdvioptions\u001b[49m\u001b[38;5;241;43m=\u001b[39;49m\u001b[43mdvioptions\u001b[49m\u001b[43m,\u001b[49m\u001b[43m \u001b[49m\u001b[43mfontsize\u001b[49m\u001b[38;5;241;43m=\u001b[39;49m\u001b[43mfontsize\u001b[49m\u001b[43m)\u001b[49m\n\u001b[1;32m     92\u001b[0m \u001b[38;5;28;01mexcept\u001b[39;00m \u001b[38;5;167;01mException\u001b[39;00m \u001b[38;5;28;01mas\u001b[39;00m e:\n\u001b[1;32m     93\u001b[0m     \u001b[38;5;66;03m# IPython swallows exceptions\u001b[39;00m\n",
      "File \u001b[0;32m~/Desktop/computer_chemistry/venv/lib/python3.11/site-packages/sympy/printing/preview.py:308\u001b[0m, in \u001b[0;36mpreview\u001b[0;34m(expr, output, viewer, euler, packages, filename, outputbuffer, preamble, dvioptions, outputTexFile, extra_preamble, fontsize, **latex_settings)\u001b[0m\n\u001b[1;32m    307\u001b[0m \u001b[38;5;28;01mif\u001b[39;00m \u001b[38;5;129;01mnot\u001b[39;00m shutil\u001b[38;5;241m.\u001b[39mwhich(\u001b[38;5;124m'\u001b[39m\u001b[38;5;124mlatex\u001b[39m\u001b[38;5;124m'\u001b[39m):\n\u001b[0;32m--> 308\u001b[0m     \u001b[38;5;28;01mraise\u001b[39;00m \u001b[38;5;167;01mRuntimeError\u001b[39;00m(\u001b[38;5;124m\"\u001b[39m\u001b[38;5;124mlatex program is not installed\u001b[39m\u001b[38;5;124m\"\u001b[39m)\n\u001b[1;32m    310\u001b[0m \u001b[38;5;28;01mtry\u001b[39;00m:\n",
      "\u001b[0;31mRuntimeError\u001b[0m: latex program is not installed",
      "\nDuring handling of the above exception, another exception occurred:\n",
      "\u001b[0;31mNameError\u001b[0m                                 Traceback (most recent call last)",
      "File \u001b[0;32m~/Desktop/computer_chemistry/venv/lib/python3.11/site-packages/IPython/core/formatters.py:347\u001b[0m, in \u001b[0;36m__call__\u001b[0;34m(self, obj)\u001b[0m\n",
      "File \u001b[0;32m~/Desktop/computer_chemistry/venv/lib/python3.11/site-packages/sympy/interactive/printing.py:184\u001b[0m, in \u001b[0;36m_init_ipython_printing.<locals>._print_latex_png\u001b[0;34m(o)\u001b[0m\n\u001b[1;32m    182\u001b[0m \u001b[38;5;28;01mif\u001b[39;00m latex_mode \u001b[38;5;241m!=\u001b[39m \u001b[38;5;124m'\u001b[39m\u001b[38;5;124minline\u001b[39m\u001b[38;5;124m'\u001b[39m:\n\u001b[1;32m    183\u001b[0m     s \u001b[38;5;241m=\u001b[39m latex(o, mode\u001b[38;5;241m=\u001b[39m\u001b[38;5;124m'\u001b[39m\u001b[38;5;124minline\u001b[39m\u001b[38;5;124m'\u001b[39m, \u001b[38;5;241m*\u001b[39m\u001b[38;5;241m*\u001b[39msettings)\n\u001b[0;32m--> 184\u001b[0m \u001b[38;5;28;01mreturn\u001b[39;00m \u001b[43m_matplotlib_wrapper\u001b[49m\u001b[43m(\u001b[49m\u001b[43ms\u001b[49m\u001b[43m)\u001b[49m\n",
      "File \u001b[0;32m~/Desktop/computer_chemistry/venv/lib/python3.11/site-packages/sympy/interactive/printing.py:118\u001b[0m, in \u001b[0;36m_init_ipython_printing.<locals>._matplotlib_wrapper\u001b[0;34m(o)\u001b[0m\n\u001b[1;32m    116\u001b[0m \u001b[38;5;28;01mtry\u001b[39;00m:\n\u001b[1;32m    117\u001b[0m     \u001b[38;5;28;01mtry\u001b[39;00m:\n\u001b[0;32m--> 118\u001b[0m         \u001b[38;5;28;01mreturn\u001b[39;00m \u001b[43mlatex_to_png\u001b[49m(o, color\u001b[38;5;241m=\u001b[39mforecolor, scale\u001b[38;5;241m=\u001b[39mscale)\n\u001b[1;32m    119\u001b[0m     \u001b[38;5;28;01mexcept\u001b[39;00m \u001b[38;5;167;01mTypeError\u001b[39;00m: \u001b[38;5;66;03m#  Old IPython version without color and scale\u001b[39;00m\n\u001b[1;32m    120\u001b[0m         \u001b[38;5;28;01mreturn\u001b[39;00m latex_to_png(o)\n",
      "\u001b[0;31mNameError\u001b[0m: cannot access free variable 'latex_to_png' where it is not associated with a value in enclosing scope"
     ]
    },
    {
     "data": {
      "text/latex": [
       "$\\displaystyle \\int\\limits_{0}^{\\pi} e^{- x} \\sin{\\left(x \\right)}\\, dx = \\frac{1}{2 e^{\\pi}} + \\frac{1}{2}$"
      ],
      "text/plain": [
       "π                        \n",
       "⌠                  -π    \n",
       "⎮  -x             ℯ     1\n",
       "⎮ ℯ  ⋅sin(x) dx = ─── + ─\n",
       "⌡                  2    2\n",
       "0                        "
      ]
     },
     "metadata": {},
     "output_type": "display_data"
    },
    {
     "ename": "NameError",
     "evalue": "cannot access free variable 'latex_to_png' where it is not associated with a value in enclosing scope",
     "output_type": "error",
     "traceback": [
      "\u001b[0;31m---------------------------------------------------------------------------\u001b[0m",
      "\u001b[0;31mRuntimeError\u001b[0m                              Traceback (most recent call last)",
      "File \u001b[0;32m~/Desktop/computer_chemistry/venv/lib/python3.11/site-packages/sympy/interactive/printing.py:178\u001b[0m, in \u001b[0;36m_init_ipython_printing.<locals>._print_latex_png\u001b[0;34m(o)\u001b[0m\n\u001b[1;32m    177\u001b[0m \u001b[38;5;28;01mtry\u001b[39;00m:\n\u001b[0;32m--> 178\u001b[0m     \u001b[38;5;28;01mreturn\u001b[39;00m \u001b[43m_preview_wrapper\u001b[49m\u001b[43m(\u001b[49m\u001b[43ms\u001b[49m\u001b[43m)\u001b[49m\n\u001b[1;32m    179\u001b[0m \u001b[38;5;28;01mexcept\u001b[39;00m \u001b[38;5;167;01mRuntimeError\u001b[39;00m \u001b[38;5;28;01mas\u001b[39;00m e:\n",
      "File \u001b[0;32m~/Desktop/computer_chemistry/venv/lib/python3.11/site-packages/sympy/interactive/printing.py:89\u001b[0m, in \u001b[0;36m_init_ipython_printing.<locals>._preview_wrapper\u001b[0;34m(o)\u001b[0m\n\u001b[1;32m     88\u001b[0m \u001b[38;5;28;01mtry\u001b[39;00m:\n\u001b[0;32m---> 89\u001b[0m     \u001b[43mpreview\u001b[49m\u001b[43m(\u001b[49m\u001b[43mo\u001b[49m\u001b[43m,\u001b[49m\u001b[43m \u001b[49m\u001b[43moutput\u001b[49m\u001b[38;5;241;43m=\u001b[39;49m\u001b[38;5;124;43m'\u001b[39;49m\u001b[38;5;124;43mpng\u001b[39;49m\u001b[38;5;124;43m'\u001b[39;49m\u001b[43m,\u001b[49m\u001b[43m \u001b[49m\u001b[43mviewer\u001b[49m\u001b[38;5;241;43m=\u001b[39;49m\u001b[38;5;124;43m'\u001b[39;49m\u001b[38;5;124;43mBytesIO\u001b[39;49m\u001b[38;5;124;43m'\u001b[39;49m\u001b[43m,\u001b[49m\u001b[43m \u001b[49m\u001b[43meuler\u001b[49m\u001b[38;5;241;43m=\u001b[39;49m\u001b[43meuler\u001b[49m\u001b[43m,\u001b[49m\n\u001b[1;32m     90\u001b[0m \u001b[43m            \u001b[49m\u001b[43moutputbuffer\u001b[49m\u001b[38;5;241;43m=\u001b[39;49m\u001b[43mexprbuffer\u001b[49m\u001b[43m,\u001b[49m\u001b[43m \u001b[49m\u001b[43mextra_preamble\u001b[49m\u001b[38;5;241;43m=\u001b[39;49m\u001b[43mextra_preamble\u001b[49m\u001b[43m,\u001b[49m\n\u001b[1;32m     91\u001b[0m \u001b[43m            \u001b[49m\u001b[43mdvioptions\u001b[49m\u001b[38;5;241;43m=\u001b[39;49m\u001b[43mdvioptions\u001b[49m\u001b[43m,\u001b[49m\u001b[43m \u001b[49m\u001b[43mfontsize\u001b[49m\u001b[38;5;241;43m=\u001b[39;49m\u001b[43mfontsize\u001b[49m\u001b[43m)\u001b[49m\n\u001b[1;32m     92\u001b[0m \u001b[38;5;28;01mexcept\u001b[39;00m \u001b[38;5;167;01mException\u001b[39;00m \u001b[38;5;28;01mas\u001b[39;00m e:\n\u001b[1;32m     93\u001b[0m     \u001b[38;5;66;03m# IPython swallows exceptions\u001b[39;00m\n",
      "File \u001b[0;32m~/Desktop/computer_chemistry/venv/lib/python3.11/site-packages/sympy/printing/preview.py:308\u001b[0m, in \u001b[0;36mpreview\u001b[0;34m(expr, output, viewer, euler, packages, filename, outputbuffer, preamble, dvioptions, outputTexFile, extra_preamble, fontsize, **latex_settings)\u001b[0m\n\u001b[1;32m    307\u001b[0m \u001b[38;5;28;01mif\u001b[39;00m \u001b[38;5;129;01mnot\u001b[39;00m shutil\u001b[38;5;241m.\u001b[39mwhich(\u001b[38;5;124m'\u001b[39m\u001b[38;5;124mlatex\u001b[39m\u001b[38;5;124m'\u001b[39m):\n\u001b[0;32m--> 308\u001b[0m     \u001b[38;5;28;01mraise\u001b[39;00m \u001b[38;5;167;01mRuntimeError\u001b[39;00m(\u001b[38;5;124m\"\u001b[39m\u001b[38;5;124mlatex program is not installed\u001b[39m\u001b[38;5;124m\"\u001b[39m)\n\u001b[1;32m    310\u001b[0m \u001b[38;5;28;01mtry\u001b[39;00m:\n",
      "\u001b[0;31mRuntimeError\u001b[0m: latex program is not installed",
      "\nDuring handling of the above exception, another exception occurred:\n",
      "\u001b[0;31mNameError\u001b[0m                                 Traceback (most recent call last)",
      "File \u001b[0;32m~/Desktop/computer_chemistry/venv/lib/python3.11/site-packages/IPython/core/formatters.py:347\u001b[0m, in \u001b[0;36m__call__\u001b[0;34m(self, obj)\u001b[0m\n",
      "File \u001b[0;32m~/Desktop/computer_chemistry/venv/lib/python3.11/site-packages/sympy/interactive/printing.py:184\u001b[0m, in \u001b[0;36m_init_ipython_printing.<locals>._print_latex_png\u001b[0;34m(o)\u001b[0m\n\u001b[1;32m    182\u001b[0m \u001b[38;5;28;01mif\u001b[39;00m latex_mode \u001b[38;5;241m!=\u001b[39m \u001b[38;5;124m'\u001b[39m\u001b[38;5;124minline\u001b[39m\u001b[38;5;124m'\u001b[39m:\n\u001b[1;32m    183\u001b[0m     s \u001b[38;5;241m=\u001b[39m latex(o, mode\u001b[38;5;241m=\u001b[39m\u001b[38;5;124m'\u001b[39m\u001b[38;5;124minline\u001b[39m\u001b[38;5;124m'\u001b[39m, \u001b[38;5;241m*\u001b[39m\u001b[38;5;241m*\u001b[39msettings)\n\u001b[0;32m--> 184\u001b[0m \u001b[38;5;28;01mreturn\u001b[39;00m \u001b[43m_matplotlib_wrapper\u001b[49m\u001b[43m(\u001b[49m\u001b[43ms\u001b[49m\u001b[43m)\u001b[49m\n",
      "File \u001b[0;32m~/Desktop/computer_chemistry/venv/lib/python3.11/site-packages/sympy/interactive/printing.py:118\u001b[0m, in \u001b[0;36m_init_ipython_printing.<locals>._matplotlib_wrapper\u001b[0;34m(o)\u001b[0m\n\u001b[1;32m    116\u001b[0m \u001b[38;5;28;01mtry\u001b[39;00m:\n\u001b[1;32m    117\u001b[0m     \u001b[38;5;28;01mtry\u001b[39;00m:\n\u001b[0;32m--> 118\u001b[0m         \u001b[38;5;28;01mreturn\u001b[39;00m \u001b[43mlatex_to_png\u001b[49m(o, color\u001b[38;5;241m=\u001b[39mforecolor, scale\u001b[38;5;241m=\u001b[39mscale)\n\u001b[1;32m    119\u001b[0m     \u001b[38;5;28;01mexcept\u001b[39;00m \u001b[38;5;167;01mTypeError\u001b[39;00m: \u001b[38;5;66;03m#  Old IPython version without color and scale\u001b[39;00m\n\u001b[1;32m    120\u001b[0m         \u001b[38;5;28;01mreturn\u001b[39;00m latex_to_png(o)\n",
      "\u001b[0;31mNameError\u001b[0m: cannot access free variable 'latex_to_png' where it is not associated with a value in enclosing scope"
     ]
    },
    {
     "data": {
      "text/latex": [
       "$\\displaystyle \\int\\limits_{-\\infty}^{\\infty} x e^{- x^{2}}\\, dx = 0$"
      ],
      "text/plain": [
       "∞               \n",
       "⌠               \n",
       "⎮       2       \n",
       "⎮     -x        \n",
       "⎮  x⋅ℯ    dx = 0\n",
       "⌡               \n",
       "-∞              "
      ]
     },
     "metadata": {},
     "output_type": "display_data"
    }
   ],
   "source": [
    "# 課題8\n",
    "expr1 = (x**2)*sym.exp(-x)\n",
    "expr2 = sym.exp(-x)*sym.sin(x)\n",
    "expr3 = x*sym.exp(-x**2)\n",
    "\n",
    "exprs = [(expr1, 1, 3), (expr2, 0, sym.pi), (expr3, -sym.oo, sym.oo)]\n",
    "\n",
    "exception = [-sym.oo, sym.oo]\n",
    "for expr, bottom, top in exprs:\n",
    "    if bottom in exception or top in exception:\n",
    "        eq = sym.Eq(sym.Integral(expr, (x, bottom, top)), sym.integrate(expr, (x, bottom, top)))\n",
    "        display(eq)\n",
    "    else:\n",
    "        # ここでevalf()を用いて数値として出力したいが、用いろとboolean型が出力されてしまう。\n",
    "        eq = sym.Eq(sym.Integral(expr, (x, bottom, top)), sym.integrate(expr, (x, bottom, top)))\n",
    "        display(eq)\n",
    "        "
   ]
  },
  {
   "cell_type": "code",
   "execution_count": null,
   "metadata": {},
   "outputs": [],
   "source": []
  },
  {
   "cell_type": "code",
   "execution_count": null,
   "metadata": {},
   "outputs": [],
   "source": []
  }
 ],
 "metadata": {
  "kernelspec": {
   "display_name": "venv",
   "language": "python",
   "name": "python3"
  },
  "language_info": {
   "codemirror_mode": {
    "name": "ipython",
    "version": 3
   },
   "file_extension": ".py",
   "mimetype": "text/x-python",
   "name": "python",
   "nbconvert_exporter": "python",
   "pygments_lexer": "ipython3",
   "version": "3.11.7"
  }
 },
 "nbformat": 4,
 "nbformat_minor": 2
}
